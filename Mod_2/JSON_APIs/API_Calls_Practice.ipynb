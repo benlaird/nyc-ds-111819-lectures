{
 "cells": [
  {
   "cell_type": "markdown",
   "metadata": {},
   "source": [
    "## Starting Off\n",
    "\n",
    "Think of one lingering quetion you have about SQL and sedd it to our slack class channel. "
   ]
  },
  {
   "cell_type": "markdown",
   "metadata": {},
   "source": [
    "# Using APIs and JSON Data"
   ]
  },
  {
   "cell_type": "markdown",
   "metadata": {},
   "source": [
    "## Objectives\n",
    "You will be able to:\n",
    "* Make an API call to Yelp "
   ]
  },
  {
   "cell_type": "markdown",
   "metadata": {},
   "source": [
    "\n",
    "## Agenda\n",
    "\n",
    "* Build up an API Call\n",
    "* Look at the results\n"
   ]
  },
  {
   "cell_type": "code",
   "execution_count": 1,
   "metadata": {},
   "outputs": [],
   "source": [
    "import requests\n",
    "import json"
   ]
  },
  {
   "cell_type": "markdown",
   "metadata": {},
   "source": [
    "For more information about the request package you can use the following resources:\n",
    "\n",
    "**Tutorial:** https://realpython.com/python-requests/\n",
    "\n",
    "**Package Documentation:** https://requests.readthedocs.io/en/master/"
   ]
  },
  {
   "cell_type": "markdown",
   "metadata": {},
   "source": [
    "![](quota.png)"
   ]
  },
  {
   "cell_type": "markdown",
   "metadata": {},
   "source": [
    "Let's do a search of businesses on the Yelp API.  "
   ]
  },
  {
   "cell_type": "code",
   "execution_count": 10,
   "metadata": {},
   "outputs": [],
   "source": [
    "# set theurl and endpoint we want to hit\n",
    "url =  'https://api.yelp.com/v3/businesses/search'"
   ]
  },
  {
   "cell_type": "markdown",
   "metadata": {},
   "source": [
    "Now that you have an API key, let's enter set that information here so that we can do our searches. Once you have the `api_key` variable, place int in our header."
   ]
  },
  {
   "cell_type": "code",
   "execution_count": 2,
   "metadata": {},
   "outputs": [],
   "source": [
    "client_id = '-1EdAZDDxa51f4Yg4HyVmw'\n",
    "api_key = 'iwdPHRMIVnMYMQCXTFAlhEzLVL7G4BvOdcgrgud2C3SGYAsGa3hu-QIExdmgCGkgGCS8pSCx7gnO2znPjj--MgT9XR_UkjxOIQQE6XxXmJ22XOohtu2R5pjb9lPpXXYx'"
   ]
  },
  {
   "cell_type": "code",
   "execution_count": null,
   "metadata": {},
   "outputs": [],
   "source": [
    "\n",
    "# client_id = 'bVX1Jsfp4dkIOqw5HOVplg' #Your client ID goes here (as a string)\n",
    "# api_key = 'RTzp-q-TgkJW_NFQogubFvZNRDziXyoR38VbtZMWibDI-FlvB25OE7GmafFEqhTL8_Bk2HlcX24-hRWLMP7Nc6WHO_VXMXldpPBjP0LoPv5EFFELMSI2oll8njhbXHYx' #Your api key goes here (as a string)"
   ]
  },
  {
   "cell_type": "code",
   "execution_count": 12,
   "metadata": {},
   "outputs": [],
   "source": [
    "headers = {\n",
    "        'Authorization': 'Bearer {}'.format(api_key),\n",
    "    }\n"
   ]
  },
  {
   "cell_type": "markdown",
   "metadata": {},
   "source": [
    "We now need to determine our parameters we want to pass.  \n",
    "\n",
    "You must give a specific search term, location and one other paramter to limit your search. \n",
    "\n",
    "Remember you can search the API documenation to find another parameter to limit your search.  \n",
    "https://www.yelp.com/developers/documentation/v3/get_started"
   ]
  },
  {
   "cell_type": "code",
   "execution_count": 6,
   "metadata": {},
   "outputs": [],
   "source": [
    "# what type of business do you want to search\n",
    "term = 'Irish'\n",
    "\n",
    "#where do you want to perform this search\n",
    "location = '11 Broadway, New York NY, 10004'\n",
    "\n",
    "# what is your other parameter you want to search against\n",
    "categories = 'bars'\n",
    "\n",
    "status = True"
   ]
  },
  {
   "cell_type": "code",
   "execution_count": 8,
   "metadata": {},
   "outputs": [
    {
     "name": "stdout",
     "output_type": "stream",
     "text": [
      "{'term': 'Irish', 'location': '11+Broadway,+New+York+NY,+10004', 'open now': True}\n"
     ]
    }
   ],
   "source": [
    "\n",
    "url_params = {\n",
    "                \"term\": term.replace(' ', '+'),\n",
    "                \"location\": location.replace(' ', '+'),\n",
    "                \"open now\" : status\n",
    "        \n",
    "            }\n",
    "\n",
    "print(url_params)"
   ]
  },
  {
   "cell_type": "markdown",
   "metadata": {},
   "source": [
    "Now that we have all of the parts necessary for an API call, let's put them together.  "
   ]
  },
  {
   "cell_type": "code",
   "execution_count": 13,
   "metadata": {},
   "outputs": [],
   "source": [
    "response = requests.get(url, headers=headers, params=url_params)\n",
    "\n"
   ]
  },
  {
   "cell_type": "code",
   "execution_count": 16,
   "metadata": {},
   "outputs": [
    {
     "data": {
      "text/plain": [
       "'{\"businesses\": [{\"id\": \"ZnhRUBos9FGQZrzbcPn6Vg\", \"alias\": \"o-haras-restaurant-and-pub-new-york\", \"name\": \"O\\'Hara\\'s Restaurant and Pub\", \"image_url\": \"https://s3-media2.fl.yelpcdn.com/bphoto/nHPOfxtgtjaXPDWm6kPdIg/o.jpg\", \"is_closed\": false, \"url\": \"https://www.yelp.com/biz/o-haras-restaurant-and-pub-new-york?adjust_creative=-1EdAZDDxa51f4Yg4HyVmw&utm_campaign=yelp_api_v3&utm_medium=api_v3_business_search&utm_source=-1EdAZDDxa51f4Yg4HyVmw\", \"review_count\": 447, \"categories\": [{\"alias\": \"irish_pubs\", \"title\": \"Irish Pub\"}, {\"alias\": \"sportsbars\", \"title\": \"Sports Bars\"}, {\"alias\": \"tradamerican\", \"title\": \"American (Traditional)\"}], \"rating\": 4.0, \"coordinates\": {\"latitude\": 40.7093473589949, \"longitude\": -74.0122557367896}, \"transactions\": [], \"price\": \"$$\", \"location\": {\"address1\": \"120 Cedar St\", \"address2\": \"Ste 4\", \"address3\": \"\", \"city\": \"New York\", \"zip_code\": \"10006\", \"country\": \"US\", \"state\": \"NY\", \"display_address\": [\"120 Cedar St\", \"Ste 4\", \"New York, NY 10006\"]}, \"phone\": \"+12122673032\", \"display_phone\": \"(212) 267-3032\", \"distance\": 481.2539783307388}, {\"id\": \"RemvTpxalDjSew5HwmNzUQ\", \"alias\": \"the-dead-rabbit-new-york\", \"name\": \"The Dead Rabbit\", \"image_url\": \"https://s3-media2.fl.yelpcdn.com/bphoto/_4T5R0HHhASROheby-TXDA/o.jpg\", \"is_closed\": false, \"url\": \"https://www.yelp.com/biz/the-dead-rabbit-new-york?adjust_creative=-1EdAZDDxa51f4Yg4HyVmw&utm_campaign=yelp_api_v3&utm_medium=api_v3_business_search&utm_source=-1EdAZDDxa51f4Yg4HyVmw\", \"review_count\": 1533, \"categories\": [{\"alias\": \"cocktailbars\", \"title\": \"Cocktail Bars\"}], \"rating\": 4.0, \"coordinates\": {\"latitude\": 40.70329, \"longitude\": -74.01102}, \"transactions\": [], \"price\": \"$$\", \"location\": {\"address1\": \"30 Water St\", \"address2\": \"\", \"address3\": \"\", \"city\": \"New York\", \"zip_code\": \"10004\", \"country\": \"US\", \"state\": \"NY\", \"display_address\": [\"30 Water St\", \"New York, NY 10004\"]}, \"phone\": \"+16464227906\", \"display_phone\": \"(646) 422-7906\", \"distance\": 332.7301782069408}, {\"id\": \"FgsN_18sk15FcTnYY3Ghjg\", \"alias\": \"the-irish-american-new-york-2\", \"name\": \"The Irish American\", \"image_url\": \"https://s3-media3.fl.yelpcdn.com/bphoto/fCC0O8bsYa7ztIVa2yY-hg/o.jpg\", \"is_closed\": false, \"url\": \"https://www.yelp.com/biz/the-irish-american-new-york-2?adjust_creative=-1EdAZDDxa51f4Yg4HyVmw&utm_campaign=yelp_api_v3&utm_medium=api_v3_business_search&utm_source=-1EdAZDDxa51f4Yg4HyVmw\", \"review_count\": 286, \"categories\": [{\"alias\": \"irish_pubs\", \"title\": \"Irish Pub\"}], \"rating\": 4.0, \"coordinates\": {\"latitude\": 40.71015, \"longitude\": -74.008781}, \"transactions\": [\"delivery\", \"pickup\"], \"price\": \"$$\", \"location\": {\"address1\": \"17 John St\", \"address2\": null, \"address3\": \"\", \"city\": \"New York\", \"zip_code\": \"10038\", \"country\": \"US\", \"state\": \"NY\", \"display_address\": [\"17 John St\", \"New York, NY 10038\"]}, \"phone\": \"+16464146223\", \"display_phone\": \"(646) 414-6223\", \"distance\": 703.4199968551949}, {\"id\": \"9W-iYE7L_xHk6AY5wTUjkw\", \"alias\": \"murphys-tavern-new-york\", \"name\": \"Murphy\\'s Tavern\", \"image_url\": \"https://s3-media1.fl.yelpcdn.com/bphoto/xOh3ePL29t0HYJ97HfW_8A/o.jpg\", \"is_closed\": false, \"url\": \"https://www.yelp.com/biz/murphys-tavern-new-york?adjust_creative=-1EdAZDDxa51f4Yg4HyVmw&utm_campaign=yelp_api_v3&utm_medium=api_v3_business_search&utm_source=-1EdAZDDxa51f4Yg4HyVmw\", \"review_count\": 180, \"categories\": [{\"alias\": \"pubs\", \"title\": \"Pubs\"}, {\"alias\": \"tradamerican\", \"title\": \"American (Traditional)\"}], \"rating\": 4.0, \"coordinates\": {\"latitude\": 40.70389, \"longitude\": -74.01248}, \"transactions\": [\"delivery\", \"pickup\"], \"price\": \"$$\", \"location\": {\"address1\": \"6 Stone St\", \"address2\": null, \"address3\": \"\", \"city\": \"New York\", \"zip_code\": \"10004\", \"country\": \"US\", \"state\": \"NY\", \"display_address\": [\"6 Stone St\", \"New York, NY 10004\"]}, \"phone\": \"+12124251700\", \"display_phone\": \"(212) 425-1700\", \"distance\": 188.0162765415336}, {\"id\": \"c1kKAH9XMPNeaBhvnIP0FQ\", \"alias\": \"trinity-place-new-york-3\", \"name\": \"Trinity Place\", \"image_url\": \"https://s3-media3.fl.yelpcdn.com/bphoto/TdtcSLphiQ5FUuscFZKNuw/o.jpg\", \"is_closed\": false, \"url\": \"https://www.yelp.com/biz/trinity-place-new-york-3?adjust_creative=-1EdAZDDxa51f4Yg4HyVmw&utm_campaign=yelp_api_v3&utm_medium=api_v3_business_search&utm_source=-1EdAZDDxa51f4Yg4HyVmw\", \"review_count\": 368, \"categories\": [{\"alias\": \"bars\", \"title\": \"Bars\"}, {\"alias\": \"newamerican\", \"title\": \"American (New)\"}, {\"alias\": \"irish\", \"title\": \"Irish\"}], \"rating\": 4.0, \"coordinates\": {\"latitude\": 40.708865, \"longitude\": -74.01117}, \"transactions\": [], \"price\": \"$$\", \"location\": {\"address1\": \"115 Broadway\", \"address2\": \"\", \"address3\": \"\", \"city\": \"New York\", \"zip_code\": \"10006\", \"country\": \"US\", \"state\": \"NY\", \"display_address\": [\"115 Broadway\", \"New York, NY 10006\"]}, \"phone\": \"+12129640939\", \"display_phone\": \"(212) 964-0939\", \"distance\": 470.36361994251956}, {\"id\": \"0whkxT11d-NvKWN7gIGf7Q\", \"alias\": \"jim-bradys-irish-pub-and-restaurant-new-york\", \"name\": \"Jim Brady\\'s Irish Pub and Restaurant\", \"image_url\": \"https://s3-media4.fl.yelpcdn.com/bphoto/qIcci2M_u4j1BJbk4WK0Hw/o.jpg\", \"is_closed\": false, \"url\": \"https://www.yelp.com/biz/jim-bradys-irish-pub-and-restaurant-new-york?adjust_creative=-1EdAZDDxa51f4Yg4HyVmw&utm_campaign=yelp_api_v3&utm_medium=api_v3_business_search&utm_source=-1EdAZDDxa51f4Yg4HyVmw\", \"review_count\": 124, \"categories\": [{\"alias\": \"pubs\", \"title\": \"Pubs\"}, {\"alias\": \"irish\", \"title\": \"Irish\"}], \"rating\": 4.0, \"coordinates\": {\"latitude\": 40.707681, \"longitude\": -74.00765}, \"transactions\": [\"delivery\", \"pickup\"], \"price\": \"$$\", \"location\": {\"address1\": \"75 Maiden Ln\", \"address2\": \"\", \"address3\": \"\", \"city\": \"New York\", \"zip_code\": \"10038\", \"country\": \"US\", \"state\": \"NY\", \"display_address\": [\"75 Maiden Ln\", \"New York, NY 10038\"]}, \"phone\": \"+12124251300\", \"display_phone\": \"(212) 425-1300\", \"distance\": 602.9879671896906}, {\"id\": \"G4q_yqq7lLm9FvCfLQno5g\", \"alias\": \"dorrians-red-hand-jersey-city\", \"name\": \"Dorrian\\'s Red Hand\", \"image_url\": \"https://s3-media4.fl.yelpcdn.com/bphoto/p3QzApzo5ykhdpAp7rm5Ew/o.jpg\", \"is_closed\": false, \"url\": \"https://www.yelp.com/biz/dorrians-red-hand-jersey-city?adjust_creative=-1EdAZDDxa51f4Yg4HyVmw&utm_campaign=yelp_api_v3&utm_medium=api_v3_business_search&utm_source=-1EdAZDDxa51f4Yg4HyVmw\", \"review_count\": 251, \"categories\": [{\"alias\": \"tradamerican\", \"title\": \"American (Traditional)\"}, {\"alias\": \"irish_pubs\", \"title\": \"Irish Pub\"}, {\"alias\": \"venues\", \"title\": \"Venues & Event Spaces\"}], \"rating\": 4.0, \"coordinates\": {\"latitude\": 40.7276944, \"longitude\": -74.0346549}, \"transactions\": [\"delivery\", \"pickup\"], \"price\": \"$$\", \"location\": {\"address1\": \"555 Washington Blvd\", \"address2\": \"\", \"address3\": \"\", \"city\": \"Jersey City\", \"zip_code\": \"07310\", \"country\": \"US\", \"state\": \"NJ\", \"display_address\": [\"555 Washington Blvd\", \"Jersey City, NJ 07310\"]}, \"phone\": \"+12016266660\", \"display_phone\": \"(201) 626-6660\", \"distance\": 3094.92799627187}, {\"id\": \"lHGQM__w1x5Dxiq3aRPCTQ\", \"alias\": \"white-horse-tavern-financial-district-new-york\", \"name\": \"White Horse Tavern - Financial District\", \"image_url\": \"https://s3-media2.fl.yelpcdn.com/bphoto/YV-yxNcjo9RzuTdNZnY4Ow/o.jpg\", \"is_closed\": false, \"url\": \"https://www.yelp.com/biz/white-horse-tavern-financial-district-new-york?adjust_creative=-1EdAZDDxa51f4Yg4HyVmw&utm_campaign=yelp_api_v3&utm_medium=api_v3_business_search&utm_source=-1EdAZDDxa51f4Yg4HyVmw\", \"review_count\": 358, \"categories\": [{\"alias\": \"pubs\", \"title\": \"Pubs\"}, {\"alias\": \"burgers\", \"title\": \"Burgers\"}, {\"alias\": \"venues\", \"title\": \"Venues & Event Spaces\"}], \"rating\": 4.0, \"coordinates\": {\"latitude\": 40.70372, \"longitude\": -74.01237}, \"transactions\": [], \"price\": \"$\", \"location\": {\"address1\": \"25 Bridge St\", \"address2\": \"\", \"address3\": \"\", \"city\": \"New York\", \"zip_code\": \"10004\", \"country\": \"US\", \"state\": \"NY\", \"display_address\": [\"25 Bridge St\", \"New York, NY 10004\"]}, \"phone\": \"+12126689046\", \"display_phone\": \"(212) 668-9046\", \"distance\": 213.48267672529258}, {\"id\": \"W_o2Hu_L53VQTpb5q29Kuw\", \"alias\": \"ryan-maguires-restaurant-and-bar-new-york-2\", \"name\": \"Ryan Maguire\\'s Bar & Restaurant\", \"image_url\": \"https://s3-media2.fl.yelpcdn.com/bphoto/l4kCjJwZnx1DLFdDpE8_8Q/o.jpg\", \"is_closed\": false, \"url\": \"https://www.yelp.com/biz/ryan-maguires-restaurant-and-bar-new-york-2?adjust_creative=-1EdAZDDxa51f4Yg4HyVmw&utm_campaign=yelp_api_v3&utm_medium=api_v3_business_search&utm_source=-1EdAZDDxa51f4Yg4HyVmw\", \"review_count\": 150, \"categories\": [{\"alias\": \"tradamerican\", \"title\": \"American (Traditional)\"}, {\"alias\": \"irish_pubs\", \"title\": \"Irish Pub\"}], \"rating\": 4.0, \"coordinates\": {\"latitude\": 40.70806, \"longitude\": -74.0051}, \"transactions\": [\"delivery\", \"pickup\"], \"price\": \"$$\", \"location\": {\"address1\": \"28 Cliff St\", \"address2\": \"\", \"address3\": \"\", \"city\": \"New York\", \"zip_code\": \"10038\", \"country\": \"US\", \"state\": \"NY\", \"display_address\": [\"28 Cliff St\", \"New York, NY 10038\"]}, \"phone\": \"+12125666906\", \"display_phone\": \"(212) 566-6906\", \"distance\": 816.9163887310295}, {\"id\": \"8l4l9r4-K5TYq_i0mP69bg\", \"alias\": \"the-dubliner-new-york\", \"name\": \"The Dubliner\", \"image_url\": \"https://s3-media2.fl.yelpcdn.com/bphoto/UJ-vv9acmvOmWpn8e2gI2A/o.jpg\", \"is_closed\": false, \"url\": \"https://www.yelp.com/biz/the-dubliner-new-york?adjust_creative=-1EdAZDDxa51f4Yg4HyVmw&utm_campaign=yelp_api_v3&utm_medium=api_v3_business_search&utm_source=-1EdAZDDxa51f4Yg4HyVmw\", \"review_count\": 231, \"categories\": [{\"alias\": \"irish\", \"title\": \"Irish\"}, {\"alias\": \"pubs\", \"title\": \"Pubs\"}], \"rating\": 3.0, \"coordinates\": {\"latitude\": 40.7043151177964, \"longitude\": -74.0104553957992}, \"transactions\": [\"delivery\", \"pickup\"], \"price\": \"$$\", \"location\": {\"address1\": \"45 Stone St\", \"address2\": \"\", \"address3\": \"\", \"city\": \"New York\", \"zip_code\": \"10004\", \"country\": \"US\", \"state\": \"NY\", \"display_address\": [\"45 Stone St\", \"New York, NY 10004\"]}, \"phone\": \"+12127855400\", \"display_phone\": \"(212) 785-5400\", \"distance\": 318.53708753008783}, {\"id\": \"C13a1v9NZqWrGJnuCCil5A\", \"alias\": \"blarney-stone-restaurant-and-bar-new-york\", \"name\": \"Blarney Stone Restaurant & Bar\", \"image_url\": \"https://s3-media2.fl.yelpcdn.com/bphoto/-Tz1RnHYds14xR06Ri5srw/o.jpg\", \"is_closed\": false, \"url\": \"https://www.yelp.com/biz/blarney-stone-restaurant-and-bar-new-york?adjust_creative=-1EdAZDDxa51f4Yg4HyVmw&utm_campaign=yelp_api_v3&utm_medium=api_v3_business_search&utm_source=-1EdAZDDxa51f4Yg4HyVmw\", \"review_count\": 60, \"categories\": [{\"alias\": \"tradamerican\", \"title\": \"American (Traditional)\"}, {\"alias\": \"divebars\", \"title\": \"Dive Bars\"}, {\"alias\": \"sandwiches\", \"title\": \"Sandwiches\"}], \"rating\": 3.0, \"coordinates\": {\"latitude\": 40.70656, \"longitude\": -74.01363}, \"transactions\": [\"delivery\", \"pickup\"], \"price\": \"$$\", \"location\": {\"address1\": \"11 Trinity Pl\", \"address2\": \"\", \"address3\": \"\", \"city\": \"New York\", \"zip_code\": \"10006\", \"country\": \"US\", \"state\": \"NY\", \"display_address\": [\"11 Trinity Pl\", \"New York, NY 10006\"]}, \"phone\": \"+12122694988\", \"display_phone\": \"(212) 269-4988\", \"distance\": 124.81105278828157}, {\"id\": \"qpD22cY8CSXLT2qujiJtqw\", \"alias\": \"the-full-shilling-new-york\", \"name\": \"The Full Shilling\", \"image_url\": \"https://s3-media1.fl.yelpcdn.com/bphoto/psjJZqLcjU2c6ZxEITGREw/o.jpg\", \"is_closed\": false, \"url\": \"https://www.yelp.com/biz/the-full-shilling-new-york?adjust_creative=-1EdAZDDxa51f4Yg4HyVmw&utm_campaign=yelp_api_v3&utm_medium=api_v3_business_search&utm_source=-1EdAZDDxa51f4Yg4HyVmw\", \"review_count\": 84, \"categories\": [{\"alias\": \"pubs\", \"title\": \"Pubs\"}, {\"alias\": \"irish\", \"title\": \"Irish\"}], \"rating\": 3.5, \"coordinates\": {\"latitude\": 40.705722, \"longitude\": -74.007469}, \"transactions\": [\"delivery\", \"pickup\"], \"price\": \"$$\", \"location\": {\"address1\": \"160 Pearl St\", \"address2\": \"\", \"address3\": \"\", \"city\": \"New York\", \"zip_code\": \"10005\", \"country\": \"US\", \"state\": \"NY\", \"display_address\": [\"160 Pearl St\", \"New York, NY 10005\"]}, \"phone\": \"+12124223855\", \"display_phone\": \"(212) 422-3855\", \"distance\": 555.5764302682579}, {\"id\": \"-OAQxe4X74oe0I7_s2E8uA\", \"alias\": \"the-irish-punt-new-york\", \"name\": \"The Irish Punt\", \"image_url\": \"https://s3-media4.fl.yelpcdn.com/bphoto/yiRDr6c7_eX0YYg99WoiWQ/o.jpg\", \"is_closed\": false, \"url\": \"https://www.yelp.com/biz/the-irish-punt-new-york?adjust_creative=-1EdAZDDxa51f4Yg4HyVmw&utm_campaign=yelp_api_v3&utm_medium=api_v3_business_search&utm_source=-1EdAZDDxa51f4Yg4HyVmw\", \"review_count\": 57, \"categories\": [{\"alias\": \"pubs\", \"title\": \"Pubs\"}, {\"alias\": \"irish\", \"title\": \"Irish\"}], \"rating\": 3.0, \"coordinates\": {\"latitude\": 40.70583, \"longitude\": -74.01013}, \"transactions\": [], \"price\": \"$$\", \"location\": {\"address1\": \"40 Exchange Pl\", \"address2\": \"Grd Floor\", \"address3\": \"\", \"city\": \"New York\", \"zip_code\": \"10005\", \"country\": \"US\", \"state\": \"NY\", \"display_address\": [\"40 Exchange Pl\", \"Grd Floor\", \"New York, NY 10005\"]}, \"phone\": \"+12124227868\", \"display_phone\": \"(212) 422-7868\", \"distance\": 320.3979548104332}, {\"id\": \"3ESlPTtjsEsyI5jhJFvBbw\", \"alias\": \"the-porterhouse-brewing-company-new-york\", \"name\": \"The Porterhouse Brewing Company\", \"image_url\": \"https://s3-media1.fl.yelpcdn.com/bphoto/hFxNAl6S8hStrPXOCU9G-w/o.jpg\", \"is_closed\": false, \"url\": \"https://www.yelp.com/biz/the-porterhouse-brewing-company-new-york?adjust_creative=-1EdAZDDxa51f4Yg4HyVmw&utm_campaign=yelp_api_v3&utm_medium=api_v3_business_search&utm_source=-1EdAZDDxa51f4Yg4HyVmw\", \"review_count\": 116, \"categories\": [{\"alias\": \"breweries\", \"title\": \"Breweries\"}, {\"alias\": \"pubs\", \"title\": \"Pubs\"}], \"rating\": 4.0, \"coordinates\": {\"latitude\": 40.7032627, \"longitude\": -74.0107867}, \"transactions\": [], \"price\": \"$$\", \"location\": {\"address1\": \"36 Water St\", \"address2\": \"\", \"address3\": \"58 Pearl St\", \"city\": \"New York\", \"zip_code\": \"10004\", \"country\": \"US\", \"state\": \"NY\", \"display_address\": [\"36 Water St\", \"58 Pearl St\", \"New York, NY 10004\"]}, \"phone\": \"+12124257171\", \"display_phone\": \"(212) 425-7171\", \"distance\": 342.73134751648314}, {\"id\": \"ohLIPmzTysowInbte9XhMw\", \"alias\": \"the-malt-house-new-york-3\", \"name\": \"The Malt House\", \"image_url\": \"https://s3-media4.fl.yelpcdn.com/bphoto/wxCetW7aHVatpcEf11RLgA/o.jpg\", \"is_closed\": false, \"url\": \"https://www.yelp.com/biz/the-malt-house-new-york-3?adjust_creative=-1EdAZDDxa51f4Yg4HyVmw&utm_campaign=yelp_api_v3&utm_medium=api_v3_business_search&utm_source=-1EdAZDDxa51f4Yg4HyVmw\", \"review_count\": 494, \"categories\": [{\"alias\": \"gastropubs\", \"title\": \"Gastropubs\"}, {\"alias\": \"pubs\", \"title\": \"Pubs\"}, {\"alias\": \"breakfast_brunch\", \"title\": \"Breakfast & Brunch\"}], \"rating\": 4.0, \"coordinates\": {\"latitude\": 40.709659, \"longitude\": -74.009262}, \"transactions\": [\"delivery\", \"pickup\"], \"price\": \"$$\", \"location\": {\"address1\": \"9 Maiden Ln\", \"address2\": \"\", \"address3\": \"\", \"city\": \"New York\", \"zip_code\": \"10038\", \"country\": \"US\", \"state\": \"NY\", \"display_address\": [\"9 Maiden Ln\", \"New York, NY 10038\"]}, \"phone\": \"+16466827577\", \"display_phone\": \"(646) 682-7577\", \"distance\": 628.6282919590155}, {\"id\": \"-2wm7v5JBQ6N1QL1MY1gwA\", \"alias\": \"mulligans-hoboken\", \"name\": \"Mulligan\\'s\", \"image_url\": \"https://s3-media1.fl.yelpcdn.com/bphoto/5NcPLLO_H-pUmWxqAQEfUg/o.jpg\", \"is_closed\": false, \"url\": \"https://www.yelp.com/biz/mulligans-hoboken?adjust_creative=-1EdAZDDxa51f4Yg4HyVmw&utm_campaign=yelp_api_v3&utm_medium=api_v3_business_search&utm_source=-1EdAZDDxa51f4Yg4HyVmw\", \"review_count\": 104, \"categories\": [{\"alias\": \"irish\", \"title\": \"Irish\"}, {\"alias\": \"sportsbars\", \"title\": \"Sports Bars\"}], \"rating\": 4.0, \"coordinates\": {\"latitude\": 40.73752, \"longitude\": -74.03227}, \"transactions\": [], \"price\": \"$$\", \"location\": {\"address1\": \"159 1st St\", \"address2\": \"\", \"address3\": \"\", \"city\": \"Hoboken\", \"zip_code\": \"07030\", \"country\": \"US\", \"state\": \"NJ\", \"display_address\": [\"159 1st St\", \"Hoboken, NJ 07030\"]}, \"phone\": \"+12018764101\", \"display_phone\": \"(201) 876-4101\", \"distance\": 3909.2882236289925}, {\"id\": \"kMxXLrASxsbmS-ZzAaBe-A\", \"alias\": \"mollys-new-york\", \"name\": \"Molly\\'s\", \"image_url\": \"https://s3-media3.fl.yelpcdn.com/bphoto/pIec8HcSiNhaj8DOORL9Cg/o.jpg\", \"is_closed\": false, \"url\": \"https://www.yelp.com/biz/mollys-new-york?adjust_creative=-1EdAZDDxa51f4Yg4HyVmw&utm_campaign=yelp_api_v3&utm_medium=api_v3_business_search&utm_source=-1EdAZDDxa51f4Yg4HyVmw\", \"review_count\": 502, \"categories\": [{\"alias\": \"tradamerican\", \"title\": \"American (Traditional)\"}, {\"alias\": \"irish\", \"title\": \"Irish\"}, {\"alias\": \"irish_pubs\", \"title\": \"Irish Pub\"}], \"rating\": 4.0, \"coordinates\": {\"latitude\": 40.73825, \"longitude\": -73.98321}, \"transactions\": [], \"price\": \"$$\", \"location\": {\"address1\": \"287 3rd Ave\", \"address2\": \"\", \"address3\": \"\", \"city\": \"New York\", \"zip_code\": \"10010\", \"country\": \"US\", \"state\": \"NY\", \"display_address\": [\"287 3rd Ave\", \"New York, NY 10010\"]}, \"phone\": \"+12128893361\", \"display_phone\": \"(212) 889-3361\", \"distance\": 4496.322828307484}, {\"id\": \"BTB-nzu1XgEbNRXDImz5qQ\", \"alias\": \"lilly-o-briens-new-york-2\", \"name\": \"Lilly O\\'Brien\\'s\", \"image_url\": \"https://s3-media3.fl.yelpcdn.com/bphoto/xK6C1VKMqPl8WV3yG6QTDw/o.jpg\", \"is_closed\": false, \"url\": \"https://www.yelp.com/biz/lilly-o-briens-new-york-2?adjust_creative=-1EdAZDDxa51f4Yg4HyVmw&utm_campaign=yelp_api_v3&utm_medium=api_v3_business_search&utm_source=-1EdAZDDxa51f4Yg4HyVmw\", \"review_count\": 54, \"categories\": [{\"alias\": \"sportsbars\", \"title\": \"Sports Bars\"}, {\"alias\": \"irish\", \"title\": \"Irish\"}], \"rating\": 3.0, \"coordinates\": {\"latitude\": 40.713394, \"longitude\": -74.008491}, \"transactions\": [\"delivery\", \"pickup\"], \"price\": \"$$\", \"location\": {\"address1\": \"18 Murray St\", \"address2\": null, \"address3\": \"\", \"city\": \"New York\", \"zip_code\": \"10007\", \"country\": \"US\", \"state\": \"NY\", \"display_address\": [\"18 Murray St\", \"New York, NY 10007\"]}, \"phone\": \"\", \"display_phone\": \"\", \"distance\": 1017.6250465054975}, {\"id\": \"Z_W3doydEDnnG7PPc3fW5Q\", \"alias\": \"killarney-rose-new-york\", \"name\": \"Killarney Rose\", \"image_url\": \"https://s3-media2.fl.yelpcdn.com/bphoto/b-VSX1W1Ni0_vOSMHZnMQA/o.jpg\", \"is_closed\": false, \"url\": \"https://www.yelp.com/biz/killarney-rose-new-york?adjust_creative=-1EdAZDDxa51f4Yg4HyVmw&utm_campaign=yelp_api_v3&utm_medium=api_v3_business_search&utm_source=-1EdAZDDxa51f4Yg4HyVmw\", \"review_count\": 146, \"categories\": [{\"alias\": \"pubs\", \"title\": \"Pubs\"}], \"rating\": 3.5, \"coordinates\": {\"latitude\": 40.705221802732, \"longitude\": -74.008625345126}, \"transactions\": [], \"price\": \"$$\", \"location\": {\"address1\": \"127 Pearl St\", \"address2\": \"\", \"address3\": \"\", \"city\": \"New York\", \"zip_code\": \"10005\", \"country\": \"US\", \"state\": \"NY\", \"display_address\": [\"127 Pearl St\", \"New York, NY 10005\"]}, \"phone\": \"+12124221486\", \"display_phone\": \"(212) 422-1486\", \"distance\": 455.9421670638081}, {\"id\": \"QArou0r7CmLNPWYRA9ecog\", \"alias\": \"mcsorleys-old-ale-house-new-york\", \"name\": \"McSorleys Old Ale House\", \"image_url\": \"https://s3-media4.fl.yelpcdn.com/bphoto/rMVnbtW504_4qK93_9Fy9w/o.jpg\", \"is_closed\": false, \"url\": \"https://www.yelp.com/biz/mcsorleys-old-ale-house-new-york?adjust_creative=-1EdAZDDxa51f4Yg4HyVmw&utm_campaign=yelp_api_v3&utm_medium=api_v3_business_search&utm_source=-1EdAZDDxa51f4Yg4HyVmw\", \"review_count\": 1748, \"categories\": [{\"alias\": \"divebars\", \"title\": \"Dive Bars\"}, {\"alias\": \"breweries\", \"title\": \"Breweries\"}, {\"alias\": \"beerbar\", \"title\": \"Beer Bar\"}], \"rating\": 4.0, \"coordinates\": {\"latitude\": 40.72884, \"longitude\": -73.98965}, \"transactions\": [], \"price\": \"$\", \"location\": {\"address1\": \"15 E 7th St\", \"address2\": \"\", \"address3\": \"\", \"city\": \"New York\", \"zip_code\": \"10003\", \"country\": \"US\", \"state\": \"NY\", \"display_address\": [\"15 E 7th St\", \"New York, NY 10003\"]}, \"phone\": \"+12124739148\", \"display_phone\": \"(212) 473-9148\", \"distance\": 3329.6852824758394}], \"total\": 572, \"region\": {\"center\": {\"longitude\": -74.01403427124023, \"latitude\": 40.70523468236864}}}'"
      ]
     },
     "execution_count": 16,
     "metadata": {},
     "output_type": "execute_result"
    }
   ],
   "source": [
    "response.content\n",
    "response.text"
   ]
  },
  {
   "cell_type": "markdown",
   "metadata": {},
   "source": [
    "\n",
    "## The Response\n",
    "\n",
    "The response of a GET request often has some valuable information, known as a payload, in the message body. Using the attributes and methods of Response, you can view the payload in a variety of different formats.\n",
    "\n",
    "To see the response’s content in bytes, you use `.content`\n",
    "\n",
    "You will often want to convert them into a string using a character encoding such as UTF-8. Response will do that for you when you access `.text`\n",
    "\n",
    "The response is actually serialized JSON content. To get a dictionary, you could take the str you retrieved from `.text` and deserialize it using `json.loads()`. However, a simpler way to accomplish this task is to use `.json()`:"
   ]
  },
  {
   "cell_type": "code",
   "execution_count": 17,
   "metadata": {},
   "outputs": [
    {
     "data": {
      "text/plain": [
       "{'businesses': [{'id': 'ZnhRUBos9FGQZrzbcPn6Vg',\n",
       "   'alias': 'o-haras-restaurant-and-pub-new-york',\n",
       "   'name': \"O'Hara's Restaurant and Pub\",\n",
       "   'image_url': 'https://s3-media2.fl.yelpcdn.com/bphoto/nHPOfxtgtjaXPDWm6kPdIg/o.jpg',\n",
       "   'is_closed': False,\n",
       "   'url': 'https://www.yelp.com/biz/o-haras-restaurant-and-pub-new-york?adjust_creative=-1EdAZDDxa51f4Yg4HyVmw&utm_campaign=yelp_api_v3&utm_medium=api_v3_business_search&utm_source=-1EdAZDDxa51f4Yg4HyVmw',\n",
       "   'review_count': 447,\n",
       "   'categories': [{'alias': 'irish_pubs', 'title': 'Irish Pub'},\n",
       "    {'alias': 'sportsbars', 'title': 'Sports Bars'},\n",
       "    {'alias': 'tradamerican', 'title': 'American (Traditional)'}],\n",
       "   'rating': 4.0,\n",
       "   'coordinates': {'latitude': 40.7093473589949,\n",
       "    'longitude': -74.0122557367896},\n",
       "   'transactions': [],\n",
       "   'price': '$$',\n",
       "   'location': {'address1': '120 Cedar St',\n",
       "    'address2': 'Ste 4',\n",
       "    'address3': '',\n",
       "    'city': 'New York',\n",
       "    'zip_code': '10006',\n",
       "    'country': 'US',\n",
       "    'state': 'NY',\n",
       "    'display_address': ['120 Cedar St', 'Ste 4', 'New York, NY 10006']},\n",
       "   'phone': '+12122673032',\n",
       "   'display_phone': '(212) 267-3032',\n",
       "   'distance': 481.2539783307388},\n",
       "  {'id': 'RemvTpxalDjSew5HwmNzUQ',\n",
       "   'alias': 'the-dead-rabbit-new-york',\n",
       "   'name': 'The Dead Rabbit',\n",
       "   'image_url': 'https://s3-media2.fl.yelpcdn.com/bphoto/_4T5R0HHhASROheby-TXDA/o.jpg',\n",
       "   'is_closed': False,\n",
       "   'url': 'https://www.yelp.com/biz/the-dead-rabbit-new-york?adjust_creative=-1EdAZDDxa51f4Yg4HyVmw&utm_campaign=yelp_api_v3&utm_medium=api_v3_business_search&utm_source=-1EdAZDDxa51f4Yg4HyVmw',\n",
       "   'review_count': 1533,\n",
       "   'categories': [{'alias': 'cocktailbars', 'title': 'Cocktail Bars'}],\n",
       "   'rating': 4.0,\n",
       "   'coordinates': {'latitude': 40.70329, 'longitude': -74.01102},\n",
       "   'transactions': [],\n",
       "   'price': '$$',\n",
       "   'location': {'address1': '30 Water St',\n",
       "    'address2': '',\n",
       "    'address3': '',\n",
       "    'city': 'New York',\n",
       "    'zip_code': '10004',\n",
       "    'country': 'US',\n",
       "    'state': 'NY',\n",
       "    'display_address': ['30 Water St', 'New York, NY 10004']},\n",
       "   'phone': '+16464227906',\n",
       "   'display_phone': '(646) 422-7906',\n",
       "   'distance': 332.7301782069408},\n",
       "  {'id': 'FgsN_18sk15FcTnYY3Ghjg',\n",
       "   'alias': 'the-irish-american-new-york-2',\n",
       "   'name': 'The Irish American',\n",
       "   'image_url': 'https://s3-media3.fl.yelpcdn.com/bphoto/fCC0O8bsYa7ztIVa2yY-hg/o.jpg',\n",
       "   'is_closed': False,\n",
       "   'url': 'https://www.yelp.com/biz/the-irish-american-new-york-2?adjust_creative=-1EdAZDDxa51f4Yg4HyVmw&utm_campaign=yelp_api_v3&utm_medium=api_v3_business_search&utm_source=-1EdAZDDxa51f4Yg4HyVmw',\n",
       "   'review_count': 286,\n",
       "   'categories': [{'alias': 'irish_pubs', 'title': 'Irish Pub'}],\n",
       "   'rating': 4.0,\n",
       "   'coordinates': {'latitude': 40.71015, 'longitude': -74.008781},\n",
       "   'transactions': ['delivery', 'pickup'],\n",
       "   'price': '$$',\n",
       "   'location': {'address1': '17 John St',\n",
       "    'address2': None,\n",
       "    'address3': '',\n",
       "    'city': 'New York',\n",
       "    'zip_code': '10038',\n",
       "    'country': 'US',\n",
       "    'state': 'NY',\n",
       "    'display_address': ['17 John St', 'New York, NY 10038']},\n",
       "   'phone': '+16464146223',\n",
       "   'display_phone': '(646) 414-6223',\n",
       "   'distance': 703.4199968551949},\n",
       "  {'id': '9W-iYE7L_xHk6AY5wTUjkw',\n",
       "   'alias': 'murphys-tavern-new-york',\n",
       "   'name': \"Murphy's Tavern\",\n",
       "   'image_url': 'https://s3-media1.fl.yelpcdn.com/bphoto/xOh3ePL29t0HYJ97HfW_8A/o.jpg',\n",
       "   'is_closed': False,\n",
       "   'url': 'https://www.yelp.com/biz/murphys-tavern-new-york?adjust_creative=-1EdAZDDxa51f4Yg4HyVmw&utm_campaign=yelp_api_v3&utm_medium=api_v3_business_search&utm_source=-1EdAZDDxa51f4Yg4HyVmw',\n",
       "   'review_count': 180,\n",
       "   'categories': [{'alias': 'pubs', 'title': 'Pubs'},\n",
       "    {'alias': 'tradamerican', 'title': 'American (Traditional)'}],\n",
       "   'rating': 4.0,\n",
       "   'coordinates': {'latitude': 40.70389, 'longitude': -74.01248},\n",
       "   'transactions': ['delivery', 'pickup'],\n",
       "   'price': '$$',\n",
       "   'location': {'address1': '6 Stone St',\n",
       "    'address2': None,\n",
       "    'address3': '',\n",
       "    'city': 'New York',\n",
       "    'zip_code': '10004',\n",
       "    'country': 'US',\n",
       "    'state': 'NY',\n",
       "    'display_address': ['6 Stone St', 'New York, NY 10004']},\n",
       "   'phone': '+12124251700',\n",
       "   'display_phone': '(212) 425-1700',\n",
       "   'distance': 188.0162765415336},\n",
       "  {'id': 'c1kKAH9XMPNeaBhvnIP0FQ',\n",
       "   'alias': 'trinity-place-new-york-3',\n",
       "   'name': 'Trinity Place',\n",
       "   'image_url': 'https://s3-media3.fl.yelpcdn.com/bphoto/TdtcSLphiQ5FUuscFZKNuw/o.jpg',\n",
       "   'is_closed': False,\n",
       "   'url': 'https://www.yelp.com/biz/trinity-place-new-york-3?adjust_creative=-1EdAZDDxa51f4Yg4HyVmw&utm_campaign=yelp_api_v3&utm_medium=api_v3_business_search&utm_source=-1EdAZDDxa51f4Yg4HyVmw',\n",
       "   'review_count': 368,\n",
       "   'categories': [{'alias': 'bars', 'title': 'Bars'},\n",
       "    {'alias': 'newamerican', 'title': 'American (New)'},\n",
       "    {'alias': 'irish', 'title': 'Irish'}],\n",
       "   'rating': 4.0,\n",
       "   'coordinates': {'latitude': 40.708865, 'longitude': -74.01117},\n",
       "   'transactions': [],\n",
       "   'price': '$$',\n",
       "   'location': {'address1': '115 Broadway',\n",
       "    'address2': '',\n",
       "    'address3': '',\n",
       "    'city': 'New York',\n",
       "    'zip_code': '10006',\n",
       "    'country': 'US',\n",
       "    'state': 'NY',\n",
       "    'display_address': ['115 Broadway', 'New York, NY 10006']},\n",
       "   'phone': '+12129640939',\n",
       "   'display_phone': '(212) 964-0939',\n",
       "   'distance': 470.36361994251956},\n",
       "  {'id': '0whkxT11d-NvKWN7gIGf7Q',\n",
       "   'alias': 'jim-bradys-irish-pub-and-restaurant-new-york',\n",
       "   'name': \"Jim Brady's Irish Pub and Restaurant\",\n",
       "   'image_url': 'https://s3-media4.fl.yelpcdn.com/bphoto/qIcci2M_u4j1BJbk4WK0Hw/o.jpg',\n",
       "   'is_closed': False,\n",
       "   'url': 'https://www.yelp.com/biz/jim-bradys-irish-pub-and-restaurant-new-york?adjust_creative=-1EdAZDDxa51f4Yg4HyVmw&utm_campaign=yelp_api_v3&utm_medium=api_v3_business_search&utm_source=-1EdAZDDxa51f4Yg4HyVmw',\n",
       "   'review_count': 124,\n",
       "   'categories': [{'alias': 'pubs', 'title': 'Pubs'},\n",
       "    {'alias': 'irish', 'title': 'Irish'}],\n",
       "   'rating': 4.0,\n",
       "   'coordinates': {'latitude': 40.707681, 'longitude': -74.00765},\n",
       "   'transactions': ['delivery', 'pickup'],\n",
       "   'price': '$$',\n",
       "   'location': {'address1': '75 Maiden Ln',\n",
       "    'address2': '',\n",
       "    'address3': '',\n",
       "    'city': 'New York',\n",
       "    'zip_code': '10038',\n",
       "    'country': 'US',\n",
       "    'state': 'NY',\n",
       "    'display_address': ['75 Maiden Ln', 'New York, NY 10038']},\n",
       "   'phone': '+12124251300',\n",
       "   'display_phone': '(212) 425-1300',\n",
       "   'distance': 602.9879671896906},\n",
       "  {'id': 'G4q_yqq7lLm9FvCfLQno5g',\n",
       "   'alias': 'dorrians-red-hand-jersey-city',\n",
       "   'name': \"Dorrian's Red Hand\",\n",
       "   'image_url': 'https://s3-media4.fl.yelpcdn.com/bphoto/p3QzApzo5ykhdpAp7rm5Ew/o.jpg',\n",
       "   'is_closed': False,\n",
       "   'url': 'https://www.yelp.com/biz/dorrians-red-hand-jersey-city?adjust_creative=-1EdAZDDxa51f4Yg4HyVmw&utm_campaign=yelp_api_v3&utm_medium=api_v3_business_search&utm_source=-1EdAZDDxa51f4Yg4HyVmw',\n",
       "   'review_count': 251,\n",
       "   'categories': [{'alias': 'tradamerican', 'title': 'American (Traditional)'},\n",
       "    {'alias': 'irish_pubs', 'title': 'Irish Pub'},\n",
       "    {'alias': 'venues', 'title': 'Venues & Event Spaces'}],\n",
       "   'rating': 4.0,\n",
       "   'coordinates': {'latitude': 40.7276944, 'longitude': -74.0346549},\n",
       "   'transactions': ['delivery', 'pickup'],\n",
       "   'price': '$$',\n",
       "   'location': {'address1': '555 Washington Blvd',\n",
       "    'address2': '',\n",
       "    'address3': '',\n",
       "    'city': 'Jersey City',\n",
       "    'zip_code': '07310',\n",
       "    'country': 'US',\n",
       "    'state': 'NJ',\n",
       "    'display_address': ['555 Washington Blvd', 'Jersey City, NJ 07310']},\n",
       "   'phone': '+12016266660',\n",
       "   'display_phone': '(201) 626-6660',\n",
       "   'distance': 3094.92799627187},\n",
       "  {'id': 'lHGQM__w1x5Dxiq3aRPCTQ',\n",
       "   'alias': 'white-horse-tavern-financial-district-new-york',\n",
       "   'name': 'White Horse Tavern - Financial District',\n",
       "   'image_url': 'https://s3-media2.fl.yelpcdn.com/bphoto/YV-yxNcjo9RzuTdNZnY4Ow/o.jpg',\n",
       "   'is_closed': False,\n",
       "   'url': 'https://www.yelp.com/biz/white-horse-tavern-financial-district-new-york?adjust_creative=-1EdAZDDxa51f4Yg4HyVmw&utm_campaign=yelp_api_v3&utm_medium=api_v3_business_search&utm_source=-1EdAZDDxa51f4Yg4HyVmw',\n",
       "   'review_count': 358,\n",
       "   'categories': [{'alias': 'pubs', 'title': 'Pubs'},\n",
       "    {'alias': 'burgers', 'title': 'Burgers'},\n",
       "    {'alias': 'venues', 'title': 'Venues & Event Spaces'}],\n",
       "   'rating': 4.0,\n",
       "   'coordinates': {'latitude': 40.70372, 'longitude': -74.01237},\n",
       "   'transactions': [],\n",
       "   'price': '$',\n",
       "   'location': {'address1': '25 Bridge St',\n",
       "    'address2': '',\n",
       "    'address3': '',\n",
       "    'city': 'New York',\n",
       "    'zip_code': '10004',\n",
       "    'country': 'US',\n",
       "    'state': 'NY',\n",
       "    'display_address': ['25 Bridge St', 'New York, NY 10004']},\n",
       "   'phone': '+12126689046',\n",
       "   'display_phone': '(212) 668-9046',\n",
       "   'distance': 213.48267672529258},\n",
       "  {'id': 'W_o2Hu_L53VQTpb5q29Kuw',\n",
       "   'alias': 'ryan-maguires-restaurant-and-bar-new-york-2',\n",
       "   'name': \"Ryan Maguire's Bar & Restaurant\",\n",
       "   'image_url': 'https://s3-media2.fl.yelpcdn.com/bphoto/l4kCjJwZnx1DLFdDpE8_8Q/o.jpg',\n",
       "   'is_closed': False,\n",
       "   'url': 'https://www.yelp.com/biz/ryan-maguires-restaurant-and-bar-new-york-2?adjust_creative=-1EdAZDDxa51f4Yg4HyVmw&utm_campaign=yelp_api_v3&utm_medium=api_v3_business_search&utm_source=-1EdAZDDxa51f4Yg4HyVmw',\n",
       "   'review_count': 150,\n",
       "   'categories': [{'alias': 'tradamerican', 'title': 'American (Traditional)'},\n",
       "    {'alias': 'irish_pubs', 'title': 'Irish Pub'}],\n",
       "   'rating': 4.0,\n",
       "   'coordinates': {'latitude': 40.70806, 'longitude': -74.0051},\n",
       "   'transactions': ['delivery', 'pickup'],\n",
       "   'price': '$$',\n",
       "   'location': {'address1': '28 Cliff St',\n",
       "    'address2': '',\n",
       "    'address3': '',\n",
       "    'city': 'New York',\n",
       "    'zip_code': '10038',\n",
       "    'country': 'US',\n",
       "    'state': 'NY',\n",
       "    'display_address': ['28 Cliff St', 'New York, NY 10038']},\n",
       "   'phone': '+12125666906',\n",
       "   'display_phone': '(212) 566-6906',\n",
       "   'distance': 816.9163887310295},\n",
       "  {'id': '8l4l9r4-K5TYq_i0mP69bg',\n",
       "   'alias': 'the-dubliner-new-york',\n",
       "   'name': 'The Dubliner',\n",
       "   'image_url': 'https://s3-media2.fl.yelpcdn.com/bphoto/UJ-vv9acmvOmWpn8e2gI2A/o.jpg',\n",
       "   'is_closed': False,\n",
       "   'url': 'https://www.yelp.com/biz/the-dubliner-new-york?adjust_creative=-1EdAZDDxa51f4Yg4HyVmw&utm_campaign=yelp_api_v3&utm_medium=api_v3_business_search&utm_source=-1EdAZDDxa51f4Yg4HyVmw',\n",
       "   'review_count': 231,\n",
       "   'categories': [{'alias': 'irish', 'title': 'Irish'},\n",
       "    {'alias': 'pubs', 'title': 'Pubs'}],\n",
       "   'rating': 3.0,\n",
       "   'coordinates': {'latitude': 40.7043151177964,\n",
       "    'longitude': -74.0104553957992},\n",
       "   'transactions': ['delivery', 'pickup'],\n",
       "   'price': '$$',\n",
       "   'location': {'address1': '45 Stone St',\n",
       "    'address2': '',\n",
       "    'address3': '',\n",
       "    'city': 'New York',\n",
       "    'zip_code': '10004',\n",
       "    'country': 'US',\n",
       "    'state': 'NY',\n",
       "    'display_address': ['45 Stone St', 'New York, NY 10004']},\n",
       "   'phone': '+12127855400',\n",
       "   'display_phone': '(212) 785-5400',\n",
       "   'distance': 318.53708753008783},\n",
       "  {'id': 'C13a1v9NZqWrGJnuCCil5A',\n",
       "   'alias': 'blarney-stone-restaurant-and-bar-new-york',\n",
       "   'name': 'Blarney Stone Restaurant & Bar',\n",
       "   'image_url': 'https://s3-media2.fl.yelpcdn.com/bphoto/-Tz1RnHYds14xR06Ri5srw/o.jpg',\n",
       "   'is_closed': False,\n",
       "   'url': 'https://www.yelp.com/biz/blarney-stone-restaurant-and-bar-new-york?adjust_creative=-1EdAZDDxa51f4Yg4HyVmw&utm_campaign=yelp_api_v3&utm_medium=api_v3_business_search&utm_source=-1EdAZDDxa51f4Yg4HyVmw',\n",
       "   'review_count': 60,\n",
       "   'categories': [{'alias': 'tradamerican', 'title': 'American (Traditional)'},\n",
       "    {'alias': 'divebars', 'title': 'Dive Bars'},\n",
       "    {'alias': 'sandwiches', 'title': 'Sandwiches'}],\n",
       "   'rating': 3.0,\n",
       "   'coordinates': {'latitude': 40.70656, 'longitude': -74.01363},\n",
       "   'transactions': ['delivery', 'pickup'],\n",
       "   'price': '$$',\n",
       "   'location': {'address1': '11 Trinity Pl',\n",
       "    'address2': '',\n",
       "    'address3': '',\n",
       "    'city': 'New York',\n",
       "    'zip_code': '10006',\n",
       "    'country': 'US',\n",
       "    'state': 'NY',\n",
       "    'display_address': ['11 Trinity Pl', 'New York, NY 10006']},\n",
       "   'phone': '+12122694988',\n",
       "   'display_phone': '(212) 269-4988',\n",
       "   'distance': 124.81105278828157},\n",
       "  {'id': 'qpD22cY8CSXLT2qujiJtqw',\n",
       "   'alias': 'the-full-shilling-new-york',\n",
       "   'name': 'The Full Shilling',\n",
       "   'image_url': 'https://s3-media1.fl.yelpcdn.com/bphoto/psjJZqLcjU2c6ZxEITGREw/o.jpg',\n",
       "   'is_closed': False,\n",
       "   'url': 'https://www.yelp.com/biz/the-full-shilling-new-york?adjust_creative=-1EdAZDDxa51f4Yg4HyVmw&utm_campaign=yelp_api_v3&utm_medium=api_v3_business_search&utm_source=-1EdAZDDxa51f4Yg4HyVmw',\n",
       "   'review_count': 84,\n",
       "   'categories': [{'alias': 'pubs', 'title': 'Pubs'},\n",
       "    {'alias': 'irish', 'title': 'Irish'}],\n",
       "   'rating': 3.5,\n",
       "   'coordinates': {'latitude': 40.705722, 'longitude': -74.007469},\n",
       "   'transactions': ['delivery', 'pickup'],\n",
       "   'price': '$$',\n",
       "   'location': {'address1': '160 Pearl St',\n",
       "    'address2': '',\n",
       "    'address3': '',\n",
       "    'city': 'New York',\n",
       "    'zip_code': '10005',\n",
       "    'country': 'US',\n",
       "    'state': 'NY',\n",
       "    'display_address': ['160 Pearl St', 'New York, NY 10005']},\n",
       "   'phone': '+12124223855',\n",
       "   'display_phone': '(212) 422-3855',\n",
       "   'distance': 555.5764302682579},\n",
       "  {'id': '-OAQxe4X74oe0I7_s2E8uA',\n",
       "   'alias': 'the-irish-punt-new-york',\n",
       "   'name': 'The Irish Punt',\n",
       "   'image_url': 'https://s3-media4.fl.yelpcdn.com/bphoto/yiRDr6c7_eX0YYg99WoiWQ/o.jpg',\n",
       "   'is_closed': False,\n",
       "   'url': 'https://www.yelp.com/biz/the-irish-punt-new-york?adjust_creative=-1EdAZDDxa51f4Yg4HyVmw&utm_campaign=yelp_api_v3&utm_medium=api_v3_business_search&utm_source=-1EdAZDDxa51f4Yg4HyVmw',\n",
       "   'review_count': 57,\n",
       "   'categories': [{'alias': 'pubs', 'title': 'Pubs'},\n",
       "    {'alias': 'irish', 'title': 'Irish'}],\n",
       "   'rating': 3.0,\n",
       "   'coordinates': {'latitude': 40.70583, 'longitude': -74.01013},\n",
       "   'transactions': [],\n",
       "   'price': '$$',\n",
       "   'location': {'address1': '40 Exchange Pl',\n",
       "    'address2': 'Grd Floor',\n",
       "    'address3': '',\n",
       "    'city': 'New York',\n",
       "    'zip_code': '10005',\n",
       "    'country': 'US',\n",
       "    'state': 'NY',\n",
       "    'display_address': ['40 Exchange Pl', 'Grd Floor', 'New York, NY 10005']},\n",
       "   'phone': '+12124227868',\n",
       "   'display_phone': '(212) 422-7868',\n",
       "   'distance': 320.3979548104332},\n",
       "  {'id': '3ESlPTtjsEsyI5jhJFvBbw',\n",
       "   'alias': 'the-porterhouse-brewing-company-new-york',\n",
       "   'name': 'The Porterhouse Brewing Company',\n",
       "   'image_url': 'https://s3-media1.fl.yelpcdn.com/bphoto/hFxNAl6S8hStrPXOCU9G-w/o.jpg',\n",
       "   'is_closed': False,\n",
       "   'url': 'https://www.yelp.com/biz/the-porterhouse-brewing-company-new-york?adjust_creative=-1EdAZDDxa51f4Yg4HyVmw&utm_campaign=yelp_api_v3&utm_medium=api_v3_business_search&utm_source=-1EdAZDDxa51f4Yg4HyVmw',\n",
       "   'review_count': 116,\n",
       "   'categories': [{'alias': 'breweries', 'title': 'Breweries'},\n",
       "    {'alias': 'pubs', 'title': 'Pubs'}],\n",
       "   'rating': 4.0,\n",
       "   'coordinates': {'latitude': 40.7032627, 'longitude': -74.0107867},\n",
       "   'transactions': [],\n",
       "   'price': '$$',\n",
       "   'location': {'address1': '36 Water St',\n",
       "    'address2': '',\n",
       "    'address3': '58 Pearl St',\n",
       "    'city': 'New York',\n",
       "    'zip_code': '10004',\n",
       "    'country': 'US',\n",
       "    'state': 'NY',\n",
       "    'display_address': ['36 Water St', '58 Pearl St', 'New York, NY 10004']},\n",
       "   'phone': '+12124257171',\n",
       "   'display_phone': '(212) 425-7171',\n",
       "   'distance': 342.73134751648314},\n",
       "  {'id': 'ohLIPmzTysowInbte9XhMw',\n",
       "   'alias': 'the-malt-house-new-york-3',\n",
       "   'name': 'The Malt House',\n",
       "   'image_url': 'https://s3-media4.fl.yelpcdn.com/bphoto/wxCetW7aHVatpcEf11RLgA/o.jpg',\n",
       "   'is_closed': False,\n",
       "   'url': 'https://www.yelp.com/biz/the-malt-house-new-york-3?adjust_creative=-1EdAZDDxa51f4Yg4HyVmw&utm_campaign=yelp_api_v3&utm_medium=api_v3_business_search&utm_source=-1EdAZDDxa51f4Yg4HyVmw',\n",
       "   'review_count': 494,\n",
       "   'categories': [{'alias': 'gastropubs', 'title': 'Gastropubs'},\n",
       "    {'alias': 'pubs', 'title': 'Pubs'},\n",
       "    {'alias': 'breakfast_brunch', 'title': 'Breakfast & Brunch'}],\n",
       "   'rating': 4.0,\n",
       "   'coordinates': {'latitude': 40.709659, 'longitude': -74.009262},\n",
       "   'transactions': ['delivery', 'pickup'],\n",
       "   'price': '$$',\n",
       "   'location': {'address1': '9 Maiden Ln',\n",
       "    'address2': '',\n",
       "    'address3': '',\n",
       "    'city': 'New York',\n",
       "    'zip_code': '10038',\n",
       "    'country': 'US',\n",
       "    'state': 'NY',\n",
       "    'display_address': ['9 Maiden Ln', 'New York, NY 10038']},\n",
       "   'phone': '+16466827577',\n",
       "   'display_phone': '(646) 682-7577',\n",
       "   'distance': 628.6282919590155},\n",
       "  {'id': '-2wm7v5JBQ6N1QL1MY1gwA',\n",
       "   'alias': 'mulligans-hoboken',\n",
       "   'name': \"Mulligan's\",\n",
       "   'image_url': 'https://s3-media1.fl.yelpcdn.com/bphoto/5NcPLLO_H-pUmWxqAQEfUg/o.jpg',\n",
       "   'is_closed': False,\n",
       "   'url': 'https://www.yelp.com/biz/mulligans-hoboken?adjust_creative=-1EdAZDDxa51f4Yg4HyVmw&utm_campaign=yelp_api_v3&utm_medium=api_v3_business_search&utm_source=-1EdAZDDxa51f4Yg4HyVmw',\n",
       "   'review_count': 104,\n",
       "   'categories': [{'alias': 'irish', 'title': 'Irish'},\n",
       "    {'alias': 'sportsbars', 'title': 'Sports Bars'}],\n",
       "   'rating': 4.0,\n",
       "   'coordinates': {'latitude': 40.73752, 'longitude': -74.03227},\n",
       "   'transactions': [],\n",
       "   'price': '$$',\n",
       "   'location': {'address1': '159 1st St',\n",
       "    'address2': '',\n",
       "    'address3': '',\n",
       "    'city': 'Hoboken',\n",
       "    'zip_code': '07030',\n",
       "    'country': 'US',\n",
       "    'state': 'NJ',\n",
       "    'display_address': ['159 1st St', 'Hoboken, NJ 07030']},\n",
       "   'phone': '+12018764101',\n",
       "   'display_phone': '(201) 876-4101',\n",
       "   'distance': 3909.2882236289925},\n",
       "  {'id': 'kMxXLrASxsbmS-ZzAaBe-A',\n",
       "   'alias': 'mollys-new-york',\n",
       "   'name': \"Molly's\",\n",
       "   'image_url': 'https://s3-media3.fl.yelpcdn.com/bphoto/pIec8HcSiNhaj8DOORL9Cg/o.jpg',\n",
       "   'is_closed': False,\n",
       "   'url': 'https://www.yelp.com/biz/mollys-new-york?adjust_creative=-1EdAZDDxa51f4Yg4HyVmw&utm_campaign=yelp_api_v3&utm_medium=api_v3_business_search&utm_source=-1EdAZDDxa51f4Yg4HyVmw',\n",
       "   'review_count': 502,\n",
       "   'categories': [{'alias': 'tradamerican', 'title': 'American (Traditional)'},\n",
       "    {'alias': 'irish', 'title': 'Irish'},\n",
       "    {'alias': 'irish_pubs', 'title': 'Irish Pub'}],\n",
       "   'rating': 4.0,\n",
       "   'coordinates': {'latitude': 40.73825, 'longitude': -73.98321},\n",
       "   'transactions': [],\n",
       "   'price': '$$',\n",
       "   'location': {'address1': '287 3rd Ave',\n",
       "    'address2': '',\n",
       "    'address3': '',\n",
       "    'city': 'New York',\n",
       "    'zip_code': '10010',\n",
       "    'country': 'US',\n",
       "    'state': 'NY',\n",
       "    'display_address': ['287 3rd Ave', 'New York, NY 10010']},\n",
       "   'phone': '+12128893361',\n",
       "   'display_phone': '(212) 889-3361',\n",
       "   'distance': 4496.322828307484},\n",
       "  {'id': 'BTB-nzu1XgEbNRXDImz5qQ',\n",
       "   'alias': 'lilly-o-briens-new-york-2',\n",
       "   'name': \"Lilly O'Brien's\",\n",
       "   'image_url': 'https://s3-media3.fl.yelpcdn.com/bphoto/xK6C1VKMqPl8WV3yG6QTDw/o.jpg',\n",
       "   'is_closed': False,\n",
       "   'url': 'https://www.yelp.com/biz/lilly-o-briens-new-york-2?adjust_creative=-1EdAZDDxa51f4Yg4HyVmw&utm_campaign=yelp_api_v3&utm_medium=api_v3_business_search&utm_source=-1EdAZDDxa51f4Yg4HyVmw',\n",
       "   'review_count': 54,\n",
       "   'categories': [{'alias': 'sportsbars', 'title': 'Sports Bars'},\n",
       "    {'alias': 'irish', 'title': 'Irish'}],\n",
       "   'rating': 3.0,\n",
       "   'coordinates': {'latitude': 40.713394, 'longitude': -74.008491},\n",
       "   'transactions': ['delivery', 'pickup'],\n",
       "   'price': '$$',\n",
       "   'location': {'address1': '18 Murray St',\n",
       "    'address2': None,\n",
       "    'address3': '',\n",
       "    'city': 'New York',\n",
       "    'zip_code': '10007',\n",
       "    'country': 'US',\n",
       "    'state': 'NY',\n",
       "    'display_address': ['18 Murray St', 'New York, NY 10007']},\n",
       "   'phone': '',\n",
       "   'display_phone': '',\n",
       "   'distance': 1017.6250465054975},\n",
       "  {'id': 'Z_W3doydEDnnG7PPc3fW5Q',\n",
       "   'alias': 'killarney-rose-new-york',\n",
       "   'name': 'Killarney Rose',\n",
       "   'image_url': 'https://s3-media2.fl.yelpcdn.com/bphoto/b-VSX1W1Ni0_vOSMHZnMQA/o.jpg',\n",
       "   'is_closed': False,\n",
       "   'url': 'https://www.yelp.com/biz/killarney-rose-new-york?adjust_creative=-1EdAZDDxa51f4Yg4HyVmw&utm_campaign=yelp_api_v3&utm_medium=api_v3_business_search&utm_source=-1EdAZDDxa51f4Yg4HyVmw',\n",
       "   'review_count': 146,\n",
       "   'categories': [{'alias': 'pubs', 'title': 'Pubs'}],\n",
       "   'rating': 3.5,\n",
       "   'coordinates': {'latitude': 40.705221802732, 'longitude': -74.008625345126},\n",
       "   'transactions': [],\n",
       "   'price': '$$',\n",
       "   'location': {'address1': '127 Pearl St',\n",
       "    'address2': '',\n",
       "    'address3': '',\n",
       "    'city': 'New York',\n",
       "    'zip_code': '10005',\n",
       "    'country': 'US',\n",
       "    'state': 'NY',\n",
       "    'display_address': ['127 Pearl St', 'New York, NY 10005']},\n",
       "   'phone': '+12124221486',\n",
       "   'display_phone': '(212) 422-1486',\n",
       "   'distance': 455.9421670638081},\n",
       "  {'id': 'QArou0r7CmLNPWYRA9ecog',\n",
       "   'alias': 'mcsorleys-old-ale-house-new-york',\n",
       "   'name': 'McSorleys Old Ale House',\n",
       "   'image_url': 'https://s3-media4.fl.yelpcdn.com/bphoto/rMVnbtW504_4qK93_9Fy9w/o.jpg',\n",
       "   'is_closed': False,\n",
       "   'url': 'https://www.yelp.com/biz/mcsorleys-old-ale-house-new-york?adjust_creative=-1EdAZDDxa51f4Yg4HyVmw&utm_campaign=yelp_api_v3&utm_medium=api_v3_business_search&utm_source=-1EdAZDDxa51f4Yg4HyVmw',\n",
       "   'review_count': 1748,\n",
       "   'categories': [{'alias': 'divebars', 'title': 'Dive Bars'},\n",
       "    {'alias': 'breweries', 'title': 'Breweries'},\n",
       "    {'alias': 'beerbar', 'title': 'Beer Bar'}],\n",
       "   'rating': 4.0,\n",
       "   'coordinates': {'latitude': 40.72884, 'longitude': -73.98965},\n",
       "   'transactions': [],\n",
       "   'price': '$',\n",
       "   'location': {'address1': '15 E 7th St',\n",
       "    'address2': '',\n",
       "    'address3': '',\n",
       "    'city': 'New York',\n",
       "    'zip_code': '10003',\n",
       "    'country': 'US',\n",
       "    'state': 'NY',\n",
       "    'display_address': ['15 E 7th St', 'New York, NY 10003']},\n",
       "   'phone': '+12124739148',\n",
       "   'display_phone': '(212) 473-9148',\n",
       "   'distance': 3329.6852824758394}],\n",
       " 'total': 572,\n",
       " 'region': {'center': {'longitude': -74.01403427124023,\n",
       "   'latitude': 40.70523468236864}}}"
      ]
     },
     "execution_count": 17,
     "metadata": {},
     "output_type": "execute_result"
    }
   ],
   "source": [
    "json.loads(response.text)\n"
   ]
  },
  {
   "cell_type": "code",
   "execution_count": null,
   "metadata": {},
   "outputs": [],
   "source": [
    "response.json()"
   ]
  },
  {
   "cell_type": "markdown",
   "metadata": {},
   "source": [
    "Now let's go a bit further and start to preview what's stored in each of the values for these keys.\n"
   ]
  },
  {
   "cell_type": "code",
   "execution_count": 19,
   "metadata": {},
   "outputs": [
    {
     "name": "stdout",
     "output_type": "stream",
     "text": [
      "{'businesses': [{'id': 'ZnhRUBos9FGQZrzbcPn6Vg', 'alias': 'o-haras-restaurant-and-pub-new-york', 'name': \"O'Hara's Restaurant and Pub\", 'image_url': 'https://s3-media2.fl.yelpcdn.com/bphoto/nHPOfxtgtjaXPDWm6kPdIg/o.jpg', 'is_closed': False, 'url': 'https://www.yelp.com/biz/o-haras-restaurant-and-pub-new-york?adjust_creative=-1EdAZDDxa51f4Yg4HyVmw&utm_campaign=yelp_api_v3&utm_medium=api_v3_business_search&utm_source=-1EdAZDDxa51f4Yg4HyVmw', 'review_count': 447, 'categories': [{'alias': 'irish_pubs', 'title': 'Irish Pub'}, {'alias': 'sportsbars', 'title': 'Sports Bars'}, {'alias': 'tradamerican', 'title': 'American (Traditional)'}], 'rating': 4.0, 'coordinates': {'latitude': 40.7093473589949, 'longitude': -74.0122557367896}, 'transactions': [], 'price': '$$', 'location': {'address1': '120 Cedar St', 'address2': 'Ste 4', 'address3': '', 'city': 'New York', 'zip_code': '10006', 'country': 'US', 'state': 'NY', 'display_address': ['120 Cedar St', 'Ste 4', 'New York, NY 10006']}, 'phone': '+12122673032', 'display_phone': '(212) 267-3032', 'distance': 481.2539783307388}, {'id': 'RemvTpxalDjSew5HwmNzUQ', 'alias': 'the-dead-rabbit-new-york', 'name': 'The Dead Rabbit', 'image_url': 'https://s3-media2.fl.yelpcdn.com/bphoto/_4T5R0HHhASROheby-TXDA/o.jpg', 'is_closed': False, 'url': 'https://www.yelp.com/biz/the-dead-rabbit-new-york?adjust_creative=-1EdAZDDxa51f4Yg4HyVmw&utm_campaign=yelp_api_v3&utm_medium=api_v3_business_search&utm_source=-1EdAZDDxa51f4Yg4HyVmw', 'review_count': 1533, 'categories': [{'alias': 'cocktailbars', 'title': 'Cocktail Bars'}], 'rating': 4.0, 'coordinates': {'latitude': 40.70329, 'longitude': -74.01102}, 'transactions': [], 'price': '$$', 'location': {'address1': '30 Water St', 'address2': '', 'address3': '', 'city': 'New York', 'zip_code': '10004', 'country': 'US', 'state': 'NY', 'display_address': ['30 Water St', 'New York, NY 10004']}, 'phone': '+16464227906', 'display_phone': '(646) 422-7906', 'distance': 332.7301782069408}, {'id': 'FgsN_18sk15FcTnYY3Ghjg', 'alias': 'the-irish-american-new-york-2', 'name': 'The Irish American', 'image_url': 'https://s3-media3.fl.yelpcdn.com/bphoto/fCC0O8bsYa7ztIVa2yY-hg/o.jpg', 'is_closed': False, 'url': 'https://www.yelp.com/biz/the-irish-american-new-york-2?adjust_creative=-1EdAZDDxa51f4Yg4HyVmw&utm_campaign=yelp_api_v3&utm_medium=api_v3_business_search&utm_source=-1EdAZDDxa51f4Yg4HyVmw', 'review_count': 286, 'categories': [{'alias': 'irish_pubs', 'title': 'Irish Pub'}], 'rating': 4.0, 'coordinates': {'latitude': 40.71015, 'longitude': -74.008781}, 'transactions': ['delivery', 'pickup'], 'price': '$$', 'location': {'address1': '17 John St', 'address2': None, 'address3': '', 'city': 'New York', 'zip_code': '10038', 'country': 'US', 'state': 'NY', 'display_address': ['17 John St', 'New York, NY 10038']}, 'phone': '+16464146223', 'display_phone': '(646) 414-6223', 'distance': 703.4199968551949}, {'id': '9W-iYE7L_xHk6AY5wTUjkw', 'alias': 'murphys-tavern-new-york', 'name': \"Murphy's Tavern\", 'image_url': 'https://s3-media1.fl.yelpcdn.com/bphoto/xOh3ePL29t0HYJ97HfW_8A/o.jpg', 'is_closed': False, 'url': 'https://www.yelp.com/biz/murphys-tavern-new-york?adjust_creative=-1EdAZDDxa51f4Yg4HyVmw&utm_campaign=yelp_api_v3&utm_medium=api_v3_business_search&utm_source=-1EdAZDDxa51f4Yg4HyVmw', 'review_count': 180, 'categories': [{'alias': 'pubs', 'title': 'Pubs'}, {'alias': 'tradamerican', 'title': 'American (Traditional)'}], 'rating': 4.0, 'coordinates': {'latitude': 40.70389, 'longitude': -74.01248}, 'transactions': ['delivery', 'pickup'], 'price': '$$', 'location': {'address1': '6 Stone St', 'address2': None, 'address3': '', 'city': 'New York', 'zip_code': '10004', 'country': 'US', 'state': 'NY', 'display_address': ['6 Stone St', 'New York, NY 10004']}, 'phone': '+12124251700', 'display_phone': '(212) 425-1700', 'distance': 188.0162765415336}, {'id': 'c1kKAH9XMPNeaBhvnIP0FQ', 'alias': 'trinity-place-new-york-3', 'name': 'Trinity Place', 'image_url': 'https://s3-media3.fl.yelpcdn.com/bphoto/TdtcSLphiQ5FUuscFZKNuw/o.jpg', 'is_closed': False, 'url': 'https://www.yelp.com/biz/trinity-place-new-york-3?adjust_creative=-1EdAZDDxa51f4Yg4HyVmw&utm_campaign=yelp_api_v3&utm_medium=api_v3_business_search&utm_source=-1EdAZDDxa51f4Yg4HyVmw', 'review_count': 368, 'categories': [{'alias': 'bars', 'title': 'Bars'}, {'alias': 'newamerican', 'title': 'American (New)'}, {'alias': 'irish', 'title': 'Irish'}], 'rating': 4.0, 'coordinates': {'latitude': 40.708865, 'longitude': -74.01117}, 'transactions': [], 'price': '$$', 'location': {'address1': '115 Broadway', 'address2': '', 'address3': '', 'city': 'New York', 'zip_code': '10006', 'country': 'US', 'state': 'NY', 'display_address': ['115 Broadway', 'New York, NY 10006']}, 'phone': '+12129640939', 'display_phone': '(212) 964-0939', 'distance': 470.36361994251956}, {'id': '0whkxT11d-NvKWN7gIGf7Q', 'alias': 'jim-bradys-irish-pub-and-restaurant-new-york', 'name': \"Jim Brady's Irish Pub and Restaurant\", 'image_url': 'https://s3-media4.fl.yelpcdn.com/bphoto/qIcci2M_u4j1BJbk4WK0Hw/o.jpg', 'is_closed': False, 'url': 'https://www.yelp.com/biz/jim-bradys-irish-pub-and-restaurant-new-york?adjust_creative=-1EdAZDDxa51f4Yg4HyVmw&utm_campaign=yelp_api_v3&utm_medium=api_v3_business_search&utm_source=-1EdAZDDxa51f4Yg4HyVmw', 'review_count': 124, 'categories': [{'alias': 'pubs', 'title': 'Pubs'}, {'alias': 'irish', 'title': 'Irish'}], 'rating': 4.0, 'coordinates': {'latitude': 40.707681, 'longitude': -74.00765}, 'transactions': ['delivery', 'pickup'], 'price': '$$', 'location': {'address1': '75 Maiden Ln', 'address2': '', 'address3': '', 'city': 'New York', 'zip_code': '10038', 'country': 'US', 'state': 'NY', 'display_address': ['75 Maiden Ln', 'New York, NY 10038']}, 'phone': '+12124251300', 'display_phone': '(212) 425-1300', 'distance': 602.9879671896906}, {'id': 'G4q_yqq7lLm9FvCfLQno5g', 'alias': 'dorrians-red-hand-jersey-city', 'name': \"Dorrian's Red Hand\", 'image_url': 'https://s3-media4.fl.yelpcdn.com/bphoto/p3QzApzo5ykhdpAp7rm5Ew/o.jpg', 'is_closed': False, 'url': 'https://www.yelp.com/biz/dorrians-red-hand-jersey-city?adjust_creative=-1EdAZDDxa51f4Yg4HyVmw&utm_campaign=yelp_api_v3&utm_medium=api_v3_business_search&utm_source=-1EdAZDDxa51f4Yg4HyVmw', 'review_count': 251, 'categories': [{'alias': 'tradamerican', 'title': 'American (Traditional)'}, {'alias': 'irish_pubs', 'title': 'Irish Pub'}, {'alias': 'venues', 'title': 'Venues & Event Spaces'}], 'rating': 4.0, 'coordinates': {'latitude': 40.7276944, 'longitude': -74.0346549}, 'transactions': ['delivery', 'pickup'], 'price': '$$', 'location': {'address1': '555 Washington Blvd', 'address2': '', 'address3': '', 'city': 'Jersey City', 'zip_code': '07310', 'country': 'US', 'state': 'NJ', 'display_address': ['555 Washington Blvd', 'Jersey City, NJ 07310']}, 'phone': '+12016266660', 'display_phone': '(201) 626-6660', 'distance': 3094.92799627187}, {'id': 'lHGQM__w1x5Dxiq3aRPCTQ', 'alias': 'white-horse-tavern-financial-district-new-york', 'name': 'White Horse Tavern - Financial District', 'image_url': 'https://s3-media2.fl.yelpcdn.com/bphoto/YV-yxNcjo9RzuTdNZnY4Ow/o.jpg', 'is_closed': False, 'url': 'https://www.yelp.com/biz/white-horse-tavern-financial-district-new-york?adjust_creative=-1EdAZDDxa51f4Yg4HyVmw&utm_campaign=yelp_api_v3&utm_medium=api_v3_business_search&utm_source=-1EdAZDDxa51f4Yg4HyVmw', 'review_count': 358, 'categories': [{'alias': 'pubs', 'title': 'Pubs'}, {'alias': 'burgers', 'title': 'Burgers'}, {'alias': 'venues', 'title': 'Venues & Event Spaces'}], 'rating': 4.0, 'coordinates': {'latitude': 40.70372, 'longitude': -74.01237}, 'transactions': [], 'price': '$', 'location': {'address1': '25 Bridge St', 'address2': '', 'address3': '', 'city': 'New York', 'zip_code': '10004', 'country': 'US', 'state': 'NY', 'display_address': ['25 Bridge St', 'New York, NY 10004']}, 'phone': '+12126689046', 'display_phone': '(212) 668-9046', 'distance': 213.48267672529258}, {'id': 'W_o2Hu_L53VQTpb5q29Kuw', 'alias': 'ryan-maguires-restaurant-and-bar-new-york-2', 'name': \"Ryan Maguire's Bar & Restaurant\", 'image_url': 'https://s3-media2.fl.yelpcdn.com/bphoto/l4kCjJwZnx1DLFdDpE8_8Q/o.jpg', 'is_closed': False, 'url': 'https://www.yelp.com/biz/ryan-maguires-restaurant-and-bar-new-york-2?adjust_creative=-1EdAZDDxa51f4Yg4HyVmw&utm_campaign=yelp_api_v3&utm_medium=api_v3_business_search&utm_source=-1EdAZDDxa51f4Yg4HyVmw', 'review_count': 150, 'categories': [{'alias': 'tradamerican', 'title': 'American (Traditional)'}, {'alias': 'irish_pubs', 'title': 'Irish Pub'}], 'rating': 4.0, 'coordinates': {'latitude': 40.70806, 'longitude': -74.0051}, 'transactions': ['delivery', 'pickup'], 'price': '$$', 'location': {'address1': '28 Cliff St', 'address2': '', 'address3': '', 'city': 'New York', 'zip_code': '10038', 'country': 'US', 'state': 'NY', 'display_address': ['28 Cliff St', 'New York, NY 10038']}, 'phone': '+12125666906', 'display_phone': '(212) 566-6906', 'distance': 816.9163887310295}, {'id': '8l4l9r4-K5TYq_i0mP69bg', 'alias': 'the-dubliner-new-york', 'name': 'The Dubliner', 'image_url': 'https://s3-media2.fl.yelpcdn.com/bphoto/UJ-vv9acmvOmWpn8e2gI2A/o.jpg', 'is_closed': False, 'url': 'https://www.yelp.com/biz/the-dubliner-new-york?adjust_creative=-1EdAZDDxa51f4Yg4HyVmw&utm_campaign=yelp_api_v3&utm_medium=api_v3_business_search&utm_source=-1EdAZDDxa51f4Yg4HyVmw', 'review_count': 231, 'categories': [{'alias': 'irish', 'title': 'Irish'}, {'alias': 'pubs', 'title': 'Pubs'}], 'rating': 3.0, 'coordinates': {'latitude': 40.7043151177964, 'longitude': -74.0104553957992}, 'transactions': ['delivery', 'pickup'], 'price': '$$', 'location': {'address1': '45 Stone St', 'address2': '', 'address3': '', 'city': 'New York', 'zip_code': '10004', 'country': 'US', 'state': 'NY', 'display_address': ['45 Stone St', 'New York, NY 10004']}, 'phone': '+12127855400', 'display_phone': '(212) 785-5400', 'distance': 318.53708753008783}, {'id': 'C13a1v9NZqWrGJnuCCil5A', 'alias': 'blarney-stone-restaurant-and-bar-new-york', 'name': 'Blarney Stone Restaurant & Bar', 'image_url': 'https://s3-media2.fl.yelpcdn.com/bphoto/-Tz1RnHYds14xR06Ri5srw/o.jpg', 'is_closed': False, 'url': 'https://www.yelp.com/biz/blarney-stone-restaurant-and-bar-new-york?adjust_creative=-1EdAZDDxa51f4Yg4HyVmw&utm_campaign=yelp_api_v3&utm_medium=api_v3_business_search&utm_source=-1EdAZDDxa51f4Yg4HyVmw', 'review_count': 60, 'categories': [{'alias': 'tradamerican', 'title': 'American (Traditional)'}, {'alias': 'divebars', 'title': 'Dive Bars'}, {'alias': 'sandwiches', 'title': 'Sandwiches'}], 'rating': 3.0, 'coordinates': {'latitude': 40.70656, 'longitude': -74.01363}, 'transactions': ['delivery', 'pickup'], 'price': '$$', 'location': {'address1': '11 Trinity Pl', 'address2': '', 'address3': '', 'city': 'New York', 'zip_code': '10006', 'country': 'US', 'state': 'NY', 'display_address': ['11 Trinity Pl', 'New York, NY 10006']}, 'phone': '+12122694988', 'display_phone': '(212) 269-4988', 'distance': 124.81105278828157}, {'id': 'qpD22cY8CSXLT2qujiJtqw', 'alias': 'the-full-shilling-new-york', 'name': 'The Full Shilling', 'image_url': 'https://s3-media1.fl.yelpcdn.com/bphoto/psjJZqLcjU2c6ZxEITGREw/o.jpg', 'is_closed': False, 'url': 'https://www.yelp.com/biz/the-full-shilling-new-york?adjust_creative=-1EdAZDDxa51f4Yg4HyVmw&utm_campaign=yelp_api_v3&utm_medium=api_v3_business_search&utm_source=-1EdAZDDxa51f4Yg4HyVmw', 'review_count': 84, 'categories': [{'alias': 'pubs', 'title': 'Pubs'}, {'alias': 'irish', 'title': 'Irish'}], 'rating': 3.5, 'coordinates': {'latitude': 40.705722, 'longitude': -74.007469}, 'transactions': ['delivery', 'pickup'], 'price': '$$', 'location': {'address1': '160 Pearl St', 'address2': '', 'address3': '', 'city': 'New York', 'zip_code': '10005', 'country': 'US', 'state': 'NY', 'display_address': ['160 Pearl St', 'New York, NY 10005']}, 'phone': '+12124223855', 'display_phone': '(212) 422-3855', 'distance': 555.5764302682579}, {'id': '-OAQxe4X74oe0I7_s2E8uA', 'alias': 'the-irish-punt-new-york', 'name': 'The Irish Punt', 'image_url': 'https://s3-media4.fl.yelpcdn.com/bphoto/yiRDr6c7_eX0YYg99WoiWQ/o.jpg', 'is_closed': False, 'url': 'https://www.yelp.com/biz/the-irish-punt-new-york?adjust_creative=-1EdAZDDxa51f4Yg4HyVmw&utm_campaign=yelp_api_v3&utm_medium=api_v3_business_search&utm_source=-1EdAZDDxa51f4Yg4HyVmw', 'review_count': 57, 'categories': [{'alias': 'pubs', 'title': 'Pubs'}, {'alias': 'irish', 'title': 'Irish'}], 'rating': 3.0, 'coordinates': {'latitude': 40.70583, 'longitude': -74.01013}, 'transactions': [], 'price': '$$', 'location': {'address1': '40 Exchange Pl', 'address2': 'Grd Floor', 'address3': '', 'city': 'New York', 'zip_code': '10005', 'country': 'US', 'state': 'NY', 'display_address': ['40 Exchange Pl', 'Grd Floor', 'New York, NY 10005']}, 'phone': '+12124227868', 'display_phone': '(212) 422-7868', 'distance': 320.3979548104332}, {'id': '3ESlPTtjsEsyI5jhJFvBbw', 'alias': 'the-porterhouse-brewing-company-new-york', 'name': 'The Porterhouse Brewing Company', 'image_url': 'https://s3-media1.fl.yelpcdn.com/bphoto/hFxNAl6S8hStrPXOCU9G-w/o.jpg', 'is_closed': False, 'url': 'https://www.yelp.com/biz/the-porterhouse-brewing-company-new-york?adjust_creative=-1EdAZDDxa51f4Yg4HyVmw&utm_campaign=yelp_api_v3&utm_medium=api_v3_business_search&utm_source=-1EdAZDDxa51f4Yg4HyVmw', 'review_count': 116, 'categories': [{'alias': 'breweries', 'title': 'Breweries'}, {'alias': 'pubs', 'title': 'Pubs'}], 'rating': 4.0, 'coordinates': {'latitude': 40.7032627, 'longitude': -74.0107867}, 'transactions': [], 'price': '$$', 'location': {'address1': '36 Water St', 'address2': '', 'address3': '58 Pearl St', 'city': 'New York', 'zip_code': '10004', 'country': 'US', 'state': 'NY', 'display_address': ['36 Water St', '58 Pearl St', 'New York, NY 10004']}, 'phone': '+12124257171', 'display_phone': '(212) 425-7171', 'distance': 342.73134751648314}, {'id': 'ohLIPmzTysowInbte9XhMw', 'alias': 'the-malt-house-new-york-3', 'name': 'The Malt House', 'image_url': 'https://s3-media4.fl.yelpcdn.com/bphoto/wxCetW7aHVatpcEf11RLgA/o.jpg', 'is_closed': False, 'url': 'https://www.yelp.com/biz/the-malt-house-new-york-3?adjust_creative=-1EdAZDDxa51f4Yg4HyVmw&utm_campaign=yelp_api_v3&utm_medium=api_v3_business_search&utm_source=-1EdAZDDxa51f4Yg4HyVmw', 'review_count': 494, 'categories': [{'alias': 'gastropubs', 'title': 'Gastropubs'}, {'alias': 'pubs', 'title': 'Pubs'}, {'alias': 'breakfast_brunch', 'title': 'Breakfast & Brunch'}], 'rating': 4.0, 'coordinates': {'latitude': 40.709659, 'longitude': -74.009262}, 'transactions': ['delivery', 'pickup'], 'price': '$$', 'location': {'address1': '9 Maiden Ln', 'address2': '', 'address3': '', 'city': 'New York', 'zip_code': '10038', 'country': 'US', 'state': 'NY', 'display_address': ['9 Maiden Ln', 'New York, NY 10038']}, 'phone': '+16466827577', 'display_phone': '(646) 682-7577', 'distance': 628.6282919590155}, {'id': '-2wm7v5JBQ6N1QL1MY1gwA', 'alias': 'mulligans-hoboken', 'name': \"Mulligan's\", 'image_url': 'https://s3-media1.fl.yelpcdn.com/bphoto/5NcPLLO_H-pUmWxqAQEfUg/o.jpg', 'is_closed': False, 'url': 'https://www.yelp.com/biz/mulligans-hoboken?adjust_creative=-1EdAZDDxa51f4Yg4HyVmw&utm_campaign=yelp_api_v3&utm_medium=api_v3_business_search&utm_source=-1EdAZDDxa51f4Yg4HyVmw', 'review_count': 104, 'categories': [{'alias': 'irish', 'title': 'Irish'}, {'alias': 'sportsbars', 'title': 'Sports Bars'}], 'rating': 4.0, 'coordinates': {'latitude': 40.73752, 'longitude': -74.03227}, 'transactions': [], 'price': '$$', 'location': {'address1': '159 1st St', 'address2': '', 'address3': '', 'city': 'Hoboken', 'zip_code': '07030', 'country': 'US', 'state': 'NJ', 'display_address': ['159 1st St', 'Hoboken, NJ 07030']}, 'phone': '+12018764101', 'display_phone': '(201) 876-4101', 'distance': 3909.2882236289925}, {'id': 'kMxXLrASxsbmS-ZzAaBe-A', 'alias': 'mollys-new-york', 'name': \"Molly's\", 'image_url': 'https://s3-media3.fl.yelpcdn.com/bphoto/pIec8HcSiNhaj8DOORL9Cg/o.jpg', 'is_closed': False, 'url': 'https://www.yelp.com/biz/mollys-new-york?adjust_creative=-1EdAZDDxa51f4Yg4HyVmw&utm_campaign=yelp_api_v3&utm_medium=api_v3_business_search&utm_source=-1EdAZDDxa51f4Yg4HyVmw', 'review_count': 502, 'categories': [{'alias': 'tradamerican', 'title': 'American (Traditional)'}, {'alias': 'irish', 'title': 'Irish'}, {'alias': 'irish_pubs', 'title': 'Irish Pub'}], 'rating': 4.0, 'coordinates': {'latitude': 40.73825, 'longitude': -73.98321}, 'transactions': [], 'price': '$$', 'location': {'address1': '287 3rd Ave', 'address2': '', 'address3': '', 'city': 'New York', 'zip_code': '10010', 'country': 'US', 'state': 'NY', 'display_address': ['287 3rd Ave', 'New York, NY 10010']}, 'phone': '+12128893361', 'display_phone': '(212) 889-3361', 'distance': 4496.322828307484}, {'id': 'BTB-nzu1XgEbNRXDImz5qQ', 'alias': 'lilly-o-briens-new-york-2', 'name': \"Lilly O'Brien's\", 'image_url': 'https://s3-media3.fl.yelpcdn.com/bphoto/xK6C1VKMqPl8WV3yG6QTDw/o.jpg', 'is_closed': False, 'url': 'https://www.yelp.com/biz/lilly-o-briens-new-york-2?adjust_creative=-1EdAZDDxa51f4Yg4HyVmw&utm_campaign=yelp_api_v3&utm_medium=api_v3_business_search&utm_source=-1EdAZDDxa51f4Yg4HyVmw', 'review_count': 54, 'categories': [{'alias': 'sportsbars', 'title': 'Sports Bars'}, {'alias': 'irish', 'title': 'Irish'}], 'rating': 3.0, 'coordinates': {'latitude': 40.713394, 'longitude': -74.008491}, 'transactions': ['delivery', 'pickup'], 'price': '$$', 'location': {'address1': '18 Murray St', 'address2': None, 'address3': '', 'city': 'New York', 'zip_code': '10007', 'country': 'US', 'state': 'NY', 'display_address': ['18 Murray St', 'New York, NY 10007']}, 'phone': '', 'display_phone': '', 'distance': 1017.6250465054975}, {'id': 'Z_W3doydEDnnG7PPc3fW5Q', 'alias': 'killarney-rose-new-york', 'name': 'Killarney Rose', 'image_url': 'https://s3-media2.fl.yelpcdn.com/bphoto/b-VSX1W1Ni0_vOSMHZnMQA/o.jpg', 'is_closed': False, 'url': 'https://www.yelp.com/biz/killarney-rose-new-york?adjust_creative=-1EdAZDDxa51f4Yg4HyVmw&utm_campaign=yelp_api_v3&utm_medium=api_v3_business_search&utm_source=-1EdAZDDxa51f4Yg4HyVmw', 'review_count': 146, 'categories': [{'alias': 'pubs', 'title': 'Pubs'}], 'rating': 3.5, 'coordinates': {'latitude': 40.705221802732, 'longitude': -74.008625345126}, 'transactions': [], 'price': '$$', 'location': {'address1': '127 Pearl St', 'address2': '', 'address3': '', 'city': 'New York', 'zip_code': '10005', 'country': 'US', 'state': 'NY', 'display_address': ['127 Pearl St', 'New York, NY 10005']}, 'phone': '+12124221486', 'display_phone': '(212) 422-1486', 'distance': 455.9421670638081}, {'id': 'QArou0r7CmLNPWYRA9ecog', 'alias': 'mcsorleys-old-ale-house-new-york', 'name': 'McSorleys Old Ale House', 'image_url': 'https://s3-media4.fl.yelpcdn.com/bphoto/rMVnbtW504_4qK93_9Fy9w/o.jpg', 'is_closed': False, 'url': 'https://www.yelp.com/biz/mcsorleys-old-ale-house-new-york?adjust_creative=-1EdAZDDxa51f4Yg4HyVmw&utm_campaign=yelp_api_v3&utm_medium=api_v3_business_search&utm_source=-1EdAZDDxa51f4Yg4HyVmw', 'review_count': 1748, 'categories': [{'alias': 'divebars', 'title': 'Dive Bars'}, {'alias': 'breweries', 'title': 'Breweries'}, {'alias': 'beerbar', 'title': 'Beer Bar'}], 'rating': 4.0, 'coordinates': {'latitude': 40.72884, 'longitude': -73.98965}, 'transactions': [], 'price': '$', 'location': {'address1': '15 E 7th St', 'address2': '', 'address3': '', 'city': 'New York', 'zip_code': '10003', 'country': 'US', 'state': 'NY', 'display_address': ['15 E 7th St', 'New York, NY 10003']}, 'phone': '+12124739148', 'display_phone': '(212) 473-9148', 'distance': 3329.6852824758394}], 'total': 572, 'region': {'center': {'longitude': -74.01403427124023, 'latitude': 40.70523468236864}}}\n"
     ]
    }
   ],
   "source": [
    "data = response.json()\n",
    "print(data)"
   ]
  },
  {
   "cell_type": "code",
   "execution_count": 21,
   "metadata": {},
   "outputs": [
    {
     "name": "stdout",
     "output_type": "stream",
     "text": [
      "businesses\n",
      "<class 'list'>\n",
      "\n",
      "\n",
      "total\n",
      "<class 'int'>\n",
      "\n",
      "\n",
      "region\n",
      "<class 'dict'>\n",
      "\n",
      "\n"
     ]
    }
   ],
   "source": [
    "for key in data.keys():\n",
    "    print(key)\n",
    "    value = response.json()[key] #Use standard dictionary formatting\n",
    "    print(type(value)) #What type is it?\n",
    "    print('\\n') #Separate out data"
   ]
  },
  {
   "cell_type": "code",
   "execution_count": 22,
   "metadata": {},
   "outputs": [
    {
     "data": {
      "text/plain": [
       "572"
      ]
     },
     "execution_count": 22,
     "metadata": {},
     "output_type": "execute_result"
    }
   ],
   "source": [
    "data['total']\n",
    "data['business']"
   ]
  },
  {
   "cell_type": "markdown",
   "metadata": {},
   "source": [
    "Let's make sure our data is as expected by looking at a couple of different business by taking a slice of the data. "
   ]
  },
  {
   "cell_type": "code",
   "execution_count": null,
   "metadata": {},
   "outputs": [],
   "source": [
    "yelp_data[____][____]\n",
    "\n"
   ]
  },
  {
   "cell_type": "markdown",
   "metadata": {},
   "source": [
    "There are a lot of key-value pairs for each business. Many of which we do not care about. Let's create a simple parser of this data that will return a tuple with the name, display_address, and one other data point of your choice. "
   ]
  },
  {
   "cell_type": "code",
   "execution_count": 27,
   "metadata": {},
   "outputs": [
    {
     "data": {
      "text/plain": [
       "{'id': 'ZnhRUBos9FGQZrzbcPn6Vg',\n",
       " 'alias': 'o-haras-restaurant-and-pub-new-york',\n",
       " 'name': \"O'Hara's Restaurant and Pub\",\n",
       " 'image_url': 'https://s3-media2.fl.yelpcdn.com/bphoto/nHPOfxtgtjaXPDWm6kPdIg/o.jpg',\n",
       " 'is_closed': False,\n",
       " 'url': 'https://www.yelp.com/biz/o-haras-restaurant-and-pub-new-york?adjust_creative=-1EdAZDDxa51f4Yg4HyVmw&utm_campaign=yelp_api_v3&utm_medium=api_v3_business_search&utm_source=-1EdAZDDxa51f4Yg4HyVmw',\n",
       " 'review_count': 447,\n",
       " 'categories': [{'alias': 'irish_pubs', 'title': 'Irish Pub'},\n",
       "  {'alias': 'sportsbars', 'title': 'Sports Bars'},\n",
       "  {'alias': 'tradamerican', 'title': 'American (Traditional)'}],\n",
       " 'rating': 4.0,\n",
       " 'coordinates': {'latitude': 40.7093473589949, 'longitude': -74.0122557367896},\n",
       " 'transactions': [],\n",
       " 'price': '$$',\n",
       " 'location': {'address1': '120 Cedar St',\n",
       "  'address2': 'Ste 4',\n",
       "  'address3': '',\n",
       "  'city': 'New York',\n",
       "  'zip_code': '10006',\n",
       "  'country': 'US',\n",
       "  'state': 'NY',\n",
       "  'display_address': ['120 Cedar St', 'Ste 4', 'New York, NY 10006']},\n",
       " 'phone': '+12122673032',\n",
       " 'display_phone': '(212) 267-3032',\n",
       " 'distance': 481.2539783307388}"
      ]
     },
     "execution_count": 27,
     "metadata": {},
     "output_type": "execute_result"
    }
   ],
   "source": [
    "business = data['businesses'][0]\n",
    "business"
   ]
  },
  {
   "cell_type": "code",
   "execution_count": 37,
   "metadata": {},
   "outputs": [
    {
     "data": {
      "text/plain": [
       "('Blarney Stone Restaurant & Bar', '11 Trinity Pl New York, NY 10006', 3.0)"
      ]
     },
     "execution_count": 37,
     "metadata": {},
     "output_type": "execute_result"
    }
   ],
   "source": [
    "business = data['businesses'][10]\n",
    "# name, display address\n",
    "\n",
    "biz_tuple = (business['name'], ' '.join(business['location']['display_address']),\n",
    "                                        business['rating'])\n",
    "biz_tuple"
   ]
  },
  {
   "cell_type": "markdown",
   "metadata": {},
   "source": [
    "Now that we know how to do this for one business. Let create a function that recieves the list of businesses and returns a list of tuples with the important information."
   ]
  },
  {
   "cell_type": "code",
   "execution_count": 40,
   "metadata": {},
   "outputs": [],
   "source": [
    "def parse_data(list_of_bus):\n",
    "    # create a container to hold our parsed data\n",
    "    list_of_parsed_data = []\n",
    "    \n",
    "    # loop through our business and parse each individual business\n",
    "    for business in list_of_bus:\n",
    "        biz_tuple = (business['name'], ' '.join(business['location']['display_address']),\n",
    "                                        business['rating'])\n",
    "        list_of_parsed_data.append(biz_tuple)\n",
    "    \n",
    "    return list_of_parsed_data\n",
    "    # in the loop, add each individual parsed business to our data container\n",
    "    \n",
    "    # return the container with all of the parsed results"
   ]
  },
  {
   "cell_type": "code",
   "execution_count": 48,
   "metadata": {},
   "outputs": [
    {
     "data": {
      "text/plain": [
       "[(\"O'Hara's Restaurant and Pub\", '120 Cedar St Ste 4 New York, NY 10006', 4.0),\n",
       " ('The Dead Rabbit', '30 Water St New York, NY 10004', 4.0),\n",
       " ('The Irish American', '17 John St New York, NY 10038', 4.0),\n",
       " (\"Murphy's Tavern\", '6 Stone St New York, NY 10004', 4.0),\n",
       " ('Trinity Place', '115 Broadway New York, NY 10006', 4.0),\n",
       " (\"Jim Brady's Irish Pub and Restaurant\",\n",
       "  '75 Maiden Ln New York, NY 10038',\n",
       "  4.0),\n",
       " (\"Dorrian's Red Hand\", '555 Washington Blvd Jersey City, NJ 07310', 4.0),\n",
       " ('White Horse Tavern - Financial District',\n",
       "  '25 Bridge St New York, NY 10004',\n",
       "  4.0),\n",
       " (\"Ryan Maguire's Bar & Restaurant\", '28 Cliff St New York, NY 10038', 4.0),\n",
       " ('The Dubliner', '45 Stone St New York, NY 10004', 3.0),\n",
       " ('Blarney Stone Restaurant & Bar', '11 Trinity Pl New York, NY 10006', 3.0),\n",
       " ('The Full Shilling', '160 Pearl St New York, NY 10005', 3.5),\n",
       " ('The Irish Punt', '40 Exchange Pl Grd Floor New York, NY 10005', 3.0),\n",
       " ('The Porterhouse Brewing Company',\n",
       "  '36 Water St 58 Pearl St New York, NY 10004',\n",
       "  4.0),\n",
       " ('The Malt House', '9 Maiden Ln New York, NY 10038', 4.0),\n",
       " (\"Mulligan's\", '159 1st St Hoboken, NJ 07030', 4.0),\n",
       " (\"Molly's\", '287 3rd Ave New York, NY 10010', 4.0),\n",
       " (\"Lilly O'Brien's\", '18 Murray St New York, NY 10007', 3.0),\n",
       " ('Killarney Rose', '127 Pearl St New York, NY 10005', 3.5),\n",
       " ('McSorleys Old Ale House', '15 E 7th St New York, NY 10003', 4.0)]"
      ]
     },
     "execution_count": 48,
     "metadata": {},
     "output_type": "execute_result"
    }
   ],
   "source": [
    "parse_data(data['businesses'])"
   ]
  },
  {
   "cell_type": "code",
   "execution_count": null,
   "metadata": {},
   "outputs": [],
   "source": []
  }
 ],
 "metadata": {
  "kernelspec": {
   "display_name": "Python 3",
   "language": "python",
   "name": "python3"
  },
  "language_info": {
   "codemirror_mode": {
    "name": "ipython",
    "version": 3
   },
   "file_extension": ".py",
   "mimetype": "text/x-python",
   "name": "python",
   "nbconvert_exporter": "python",
   "pygments_lexer": "ipython3",
   "version": "3.7.4"
  }
 },
 "nbformat": 4,
 "nbformat_minor": 2
}
