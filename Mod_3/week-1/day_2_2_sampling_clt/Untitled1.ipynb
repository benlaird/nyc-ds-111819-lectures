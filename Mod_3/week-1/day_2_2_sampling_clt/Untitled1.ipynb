{
 "cells": [
  {
   "cell_type": "code",
   "execution_count": null,
   "metadata": {},
   "outputs": [],
   "source": [
    "\"\"\"### Let's use numpy to answer a probability question by creating a simulation!\n",
    "​\n",
    "1. We have a box that contains 40 red balls and 60 white balls.\n",
    "What is the probability to pick a red ball 3 times in a row with replacement\n",
    "(calculated theoretically)?\n",
    "\n",
    "= 0.4 * 0.4 * 0.4\n",
    "\n",
    "​\n",
    "2. Now let's answer the same question using a simulation that\n",
    "runs 1\\_000, 10\\_000, and 100\\_000 times and counts how many \n",
    "of those times we draw 3 red balls in a row. Hint: use np.random.rand()\n",
    "​\n",
    "3. [Optional] Create a similar simulation that runs without replacement.\n",
    "\"\"\""
   ]
  },
  {
   "cell_type": "code",
   "execution_count": 6,
   "metadata": {},
   "outputs": [
    {
     "name": "stdout",
     "output_type": "stream",
     "text": [
      "6449 0.06449\n"
     ]
    }
   ],
   "source": [
    "num_sims = 100000\n",
    "num_success = 0\n",
    "\n",
    "def simulation_no_replacement():\n",
    "    \n",
    "    Success = False\n",
    "    \n",
    "    balls = ['red', 'white']\n",
    "    choice = np.random.choice(balls, 3, p=[0.4, 0.6])\n",
    "    \n",
    "    if choice[0] == 'red' and choice[1] =='red' and choice[2]=='red':\n",
    "        Success=True\n",
    "    return Success\n",
    "  \n",
    "    \n",
    "for num in range(num_sims):\n",
    "    if simulation_no_replacement():\n",
    "        num_success += 1\n",
    "        \n",
    "print(num_success, num_success/num_sims)\n"
   ]
  },
  {
   "cell_type": "code",
   "execution_count": null,
   "metadata": {},
   "outputs": [],
   "source": []
  }
 ],
 "metadata": {
  "kernelspec": {
   "display_name": "Python 3",
   "language": "python",
   "name": "python3"
  },
  "language_info": {
   "codemirror_mode": {
    "name": "ipython",
    "version": 3
   },
   "file_extension": ".py",
   "mimetype": "text/x-python",
   "name": "python",
   "nbconvert_exporter": "python",
   "pygments_lexer": "ipython3",
   "version": "3.7.4"
  }
 },
 "nbformat": 4,
 "nbformat_minor": 2
}
