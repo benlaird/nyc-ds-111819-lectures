{
 "cells": [
  {
   "cell_type": "code",
   "execution_count": 38,
   "metadata": {},
   "outputs": [],
   "source": [
    "import numpy as np\n",
    "from scipy.stats import norm, chisquare\n",
    "import matplotlib.pyplot as plt"
   ]
  },
  {
   "cell_type": "code",
   "execution_count": 2,
   "metadata": {},
   "outputs": [
    {
     "data": {
      "text/plain": [
       "array([0, 1, 3, 1])"
      ]
     },
     "execution_count": 2,
     "metadata": {},
     "output_type": "execute_result"
    }
   ],
   "source": [
    "np.diff([1, 1, 2, 5, 6], n=1)"
   ]
  },
  {
   "cell_type": "code",
   "execution_count": 34,
   "metadata": {},
   "outputs": [
    {
     "name": "stdout",
     "output_type": "stream",
     "text": [
      "cdfs: [0.         0.0770867  0.24884844 0.52738897 0.79261664 1.        ]\n",
      "diff_cdf: [0.0770867  0.17176174 0.27854053 0.26522767 0.20738336]\n",
      "res: [ 7.93992973 17.69145957 28.68967474 27.31844977 21.36048618]\n"
     ]
    }
   ],
   "source": [
    "x_values = [float(\"-Inf\"), 67.5, 72.5, 77.5, 82.5, float(\"Inf\")]\n",
    "m = 77.04\n",
    "s = 6.695\n",
    "num_obs = 103   # Number of observations\n",
    "# loc is mean, scale is stdev\n",
    "cdfs = norm.cdf(x_values, loc=m, scale=s)\n",
    "diff_cdf = np.diff(cdfs, n=1)\n",
    "print(f\"cdfs: {cdfs}\")\n",
    "print(f\"diff_cdf: {diff_cdf}\")\n",
    "res = diff_pdf*num_obs\n",
    "print(f\"res: {res}\")"
   ]
  },
  {
   "cell_type": "code",
   "execution_count": 29,
   "metadata": {},
   "outputs": [
    {
     "data": {
      "text/plain": [
       "array([ 7.93992973, 17.69145957, 28.68967474, 27.31844977, 21.36048618])"
      ]
     },
     "execution_count": 29,
     "metadata": {},
     "output_type": "execute_result"
    }
   ],
   "source": [
    "# Correct answer is: 7.93993 17.69146 28.68967 27.31845 21.36049\n",
    "res"
   ]
  },
  {
   "cell_type": "code",
   "execution_count": 37,
   "metadata": {},
   "outputs": [
    {
     "data": {
      "text/plain": [
       "array([ 8, 18, 27, 25, 25])"
      ]
     },
     "execution_count": 37,
     "metadata": {},
     "output_type": "execute_result"
    }
   ],
   "source": [
    "observed = np.asarray([8, 18, 27, 25, 25])\n",
    "observed"
   ]
  },
  {
   "cell_type": "code",
   "execution_count": 41,
   "metadata": {},
   "outputs": [
    {
     "data": {
      "text/plain": [
       "Power_divergenceResult(statistic=0.9222295738740289, pvalue=0.8200602562569497)"
      ]
     },
     "execution_count": 41,
     "metadata": {},
     "output_type": "execute_result"
    }
   ],
   "source": [
    "# Q =  0.9222296\n",
    "chisquare(observed, res, ddof=1)"
   ]
  },
  {
   "cell_type": "code",
   "execution_count": null,
   "metadata": {},
   "outputs": [],
   "source": []
  }
 ],
 "metadata": {
  "kernelspec": {
   "display_name": "Python 3",
   "language": "python",
   "name": "python3"
  },
  "language_info": {
   "codemirror_mode": {
    "name": "ipython",
    "version": 3
   },
   "file_extension": ".py",
   "mimetype": "text/x-python",
   "name": "python",
   "nbconvert_exporter": "python",
   "pygments_lexer": "ipython3",
   "version": "3.7.4"
  }
 },
 "nbformat": 4,
 "nbformat_minor": 2
}
